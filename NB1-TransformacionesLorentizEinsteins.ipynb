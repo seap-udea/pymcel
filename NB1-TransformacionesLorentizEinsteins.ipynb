{
  "cells": [
    {
      "cell_type": "markdown",
      "metadata": {
        "colab_type": "text",
        "id": "view-in-github"
      },
      "source": [
        "<a href=\"https://colab.research.google.com/github/seap-udea/pymcel/blob/main/NB1-TransformacionesLorentizEinsteins.ipynb\" target=\"_parent\"><img src=\"https://colab.research.google.com/assets/colab-badge.svg\" alt=\"Open In Colab\"/></a>"
      ]
    },
    {
      "cell_type": "markdown",
      "metadata": {
        "id": "dqJ3Ax3pd_Yp"
      },
      "source": [
        "## Relatividad y Gravitación\n",
        "### Notebook 1: Transformaciones de Lorentz-Einsteins"
      ]
    },
    {
      "cell_type": "markdown",
      "metadata": {
        "id": "jbtvwshleDtc"
      },
      "source": [
        "### Por: Jorge I. Zuluaga"
      ]
    },
    {
      "cell_type": "code",
      "execution_count": 1,
      "metadata": {
        "id": "cMCZXpgUeYQe"
      },
      "outputs": [
        {
          "data": {
            "text/plain": [
              "1.1547005383792517"
            ]
          },
          "execution_count": 1,
          "metadata": {},
          "output_type": "execute_result"
        }
      ],
      "source": [
        "c = 3e8\n",
        "v = c/2\n",
        "gamma = 1/(1 - (v/c)**2)**0.5\n",
        "gamma"
      ]
    },
    {
      "cell_type": "code",
      "execution_count": null,
      "metadata": {},
      "outputs": [],
      "source": []
    }
  ],
  "metadata": {
    "colab": {
      "authorship_tag": "ABX9TyOgA1JwiVnMLHTZdd4bn1Hw",
      "include_colab_link": true,
      "provenance": []
    },
    "kernelspec": {
      "display_name": "Python 3",
      "name": "python3"
    },
    "language_info": {
      "codemirror_mode": {
        "name": "ipython",
        "version": 3
      },
      "file_extension": ".py",
      "mimetype": "text/x-python",
      "name": "python",
      "nbconvert_exporter": "python",
      "pygments_lexer": "ipython3",
      "version": "3.12.5"
    }
  },
  "nbformat": 4,
  "nbformat_minor": 0
}
