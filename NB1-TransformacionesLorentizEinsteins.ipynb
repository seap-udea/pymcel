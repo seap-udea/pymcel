{
  "nbformat": 4,
  "nbformat_minor": 0,
  "metadata": {
    "colab": {
      "provenance": [],
      "authorship_tag": "ABX9TyOgA1JwiVnMLHTZdd4bn1Hw",
      "include_colab_link": true
    },
    "kernelspec": {
      "name": "python3",
      "display_name": "Python 3"
    },
    "language_info": {
      "name": "python"
    }
  },
  "cells": [
    {
      "cell_type": "markdown",
      "metadata": {
        "id": "view-in-github",
        "colab_type": "text"
      },
      "source": [
        "<a href=\"https://colab.research.google.com/github/seap-udea/pymcel/blob/main/NB1-TransformacionesLorentizEinsteins.ipynb\" target=\"_parent\"><img src=\"https://colab.research.google.com/assets/colab-badge.svg\" alt=\"Open In Colab\"/></a>"
      ]
    },
    {
      "cell_type": "markdown",
      "source": [
        "## Relatividad y Gravitación\n",
        "### Notebook 1: Transformaciones de Lorentz-Einsteins"
      ],
      "metadata": {
        "id": "dqJ3Ax3pd_Yp"
      }
    },
    {
      "cell_type": "markdown",
      "source": [
        "### Por: Jorge I. Zuluaga"
      ],
      "metadata": {
        "id": "jbtvwshleDtc"
      }
    },
    {
      "cell_type": "code",
      "source": [],
      "metadata": {
        "id": "cMCZXpgUeYQe"
      },
      "execution_count": null,
      "outputs": []
    }
  ]
}