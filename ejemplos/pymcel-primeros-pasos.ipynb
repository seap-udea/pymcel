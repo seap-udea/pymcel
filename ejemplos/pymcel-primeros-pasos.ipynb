{
 "cells": [
  {
   "cell_type": "markdown",
   "id": "e8531c81",
   "metadata": {},
   "source": [
    "# Mecánica Celeste: teoría, algoritmos y problemas\n",
    "## Por Jorge I. Zuluaga"
   ]
  },
  {
   "cell_type": "markdown",
   "id": "074a98d3",
   "metadata": {},
   "source": [
    "### Primeros pasos con `pymcel`\n",
    "<a target=\"_blank\" href=\"https://colab.research.google.com/github/seap-udea/pymcel/blob/main/ejemplos/pymcel-primeros-pasos.ipynb\">\n",
    "  <img src=\"https://colab.research.google.com/assets/colab-badge.svg\" alt=\"Open In Colab\"/>\n",
    "</a>"
   ]
  },
  {
   "cell_type": "markdown",
   "id": "03672f8a",
   "metadata": {},
   "source": [
    "#### Ejecutar antes de comenzar"
   ]
  },
  {
   "cell_type": "markdown",
   "id": "12d0e921",
   "metadata": {},
   "source": [
    "Si estas usando este ejemplo en `Google Colab` debes ejecutar esta celda:"
   ]
  },
  {
   "cell_type": "code",
   "execution_count": 8,
   "id": "7d05f6ac",
   "metadata": {},
   "outputs": [],
   "source": [
    "import sys\n",
    "if 'google.colab' in sys.modules:\n",
    "    !sudo pip install -Uq pymcel"
   ]
  },
  {
   "cell_type": "markdown",
   "id": "83974909",
   "metadata": {},
   "source": [
    "### Importando `pymcel`"
   ]
  },
  {
   "cell_type": "markdown",
   "id": "3b08717b",
   "metadata": {},
   "source": [
    "Para empezar a usar el paquete es necesario importarlo:"
   ]
  },
  {
   "cell_type": "code",
   "execution_count": 1,
   "id": "dfaaac1c",
   "metadata": {},
   "outputs": [
    {
     "name": "stdout",
     "output_type": "stream",
     "text": [
      "pymcel version  0.6.25\n"
     ]
    }
   ],
   "source": [
    "import pymcel as pc\n",
    "%load_ext autoreload \n",
    "%autoreload 2"
   ]
  },
  {
   "cell_type": "markdown",
   "id": "a9acc25a",
   "metadata": {},
   "source": [
    "> **NOTA**: Los *comandos mágicos* `%load_ext` y `%autoreload` solo son necesarios durante la fase de desarrollo. Puedes obviarlos en tus propios cuadernos."
   ]
  },
  {
   "cell_type": "markdown",
   "id": "559492ef",
   "metadata": {},
   "source": [
    "### Variables incorporadas en el paquete"
   ]
  },
  {
   "cell_type": "markdown",
   "id": "5b2d4723",
   "metadata": {},
   "source": [
    "El paquete puede venir con una serie de variables incorporadas cuyo valor puedes ver haciendo:"
   ]
  },
  {
   "cell_type": "code",
   "execution_count": 2,
   "id": "e91e10f3",
   "metadata": {},
   "outputs": [
    {
     "data": {
      "text/plain": [
       "'0.6.25'"
      ]
     },
     "execution_count": 2,
     "metadata": {},
     "output_type": "execute_result"
    }
   ],
   "source": [
    "pc.version"
   ]
  },
  {
   "cell_type": "markdown",
   "id": "cd732c09",
   "metadata": {},
   "source": [
    "En general las variables globales incluídas en el paquete se escriben en mayúscula sostenida. Por ejemplo, la variable `ROOTDIR` muestra donde se encuentran instalados los archivos del paquete en el sistema:"
   ]
  },
  {
   "cell_type": "code",
   "execution_count": 3,
   "id": "87f0afdc",
   "metadata": {},
   "outputs": [
    {
     "data": {
      "text/plain": [
       "'/Users/jzuluaga/dev/pymcel/src/pymcel'"
      ]
     },
     "execution_count": 3,
     "metadata": {},
     "output_type": "execute_result"
    }
   ],
   "source": [
    "pc.ROOTDIR"
   ]
  },
  {
   "cell_type": "markdown",
   "id": "3fea1b7e",
   "metadata": {},
   "source": [
    "### Constantes incluídas en el paquete"
   ]
  },
  {
   "cell_type": "markdown",
   "id": "456311e2",
   "metadata": {},
   "source": [
    "El paquete viene con algunas constantes físicas y astronómicas de interés. Por ejemplo:"
   ]
  },
  {
   "cell_type": "code",
   "execution_count": 4,
   "id": "2e857309",
   "metadata": {},
   "outputs": [
    {
     "data": {
      "text/plain": [
       "(np.float64(6.6743e-11), np.float64(149597870700.0))"
      ]
     },
     "execution_count": 4,
     "metadata": {},
     "output_type": "execute_result"
    }
   ],
   "source": [
    "pc.constantes.G, pc.constantes.au"
   ]
  },
  {
   "cell_type": "markdown",
   "id": "ba692f0b",
   "metadata": {},
   "source": [
    "Todas las constantes están en el sistema internacional de unidades."
   ]
  },
  {
   "cell_type": "markdown",
   "id": "97972598",
   "metadata": {},
   "source": [
    "Para ver una lista completa de constantes usar:"
   ]
  },
  {
   "cell_type": "code",
   "execution_count": 5,
   "id": "26d7edef",
   "metadata": {},
   "outputs": [
    {
     "name": "stdout",
     "output_type": "stream",
     "text": [
      "['G', 'N_A', 'R', 'Ryd', 'a0', 'alpha', 'atm', 'b_wien', 'c', 'e', 'eps0', 'g0', 'h', 'hbar', 'k_B', 'm_e', 'm_n', 'm_p', 'mu0', 'muB', 'sigma_T', 'sigma_sb', 'u', 'GM_earth', 'GM_jup', 'GM_sun', 'L_bol0', 'L_sun', 'M_earth', 'M_jup', 'M_sun', 'R_earth', 'R_jup', 'R_sun', 'au', 'kpc', 'pc', 'año', 'día', 'mu_mercury', 'mu_venus', 'mu_earth', 'mu_emb', 'mu_mars', 'mu_jupiter', 'mu_saturn', 'mu_uranus', 'mu_neptune', 'mu_pluto', 'mu_sun', 'mu_moon']\n"
     ]
    }
   ],
   "source": [
    "print(pc.constantes.lista)"
   ]
  },
  {
   "cell_type": "markdown",
   "id": "144a9fb9",
   "metadata": {},
   "source": [
    "La mayoría de estas constantes vienen originalmente del paquete `astropy` de modo que su significado puede buscarse en la documentación de ese paquete."
   ]
  },
  {
   "cell_type": "code",
   "execution_count": 2,
   "id": "edb034e5",
   "metadata": {},
   "outputs": [
    {
     "name": "stdout",
     "output_type": "stream",
     "text": [
      "\u001b[0;31mType:\u001b[0m        module\n",
      "\u001b[0;31mString form:\u001b[0m <module 'pymcel.constantes' from '/Users/jzuluaga/dev/pymcel/src/pymcel/constantes.py'>\n",
      "\u001b[0;31mFile:\u001b[0m        ~/dev/pymcel/src/pymcel/constantes.py\n",
      "\u001b[0;31mDocstring:\u001b[0m  \n",
      "Constantes físicas y astronómicas.\n",
      "\n",
      "Notas:\n",
      "\n",
      "- Todas las constantes están en unidades SI.\n",
      "- Las constantes de astropy están en unidades SI, pero se pueden convertir a otras unidades usando la función\n",
      "    astropy.constants.convert.\n",
      "- Las constantes de astropy están en el módulo astropy.constants.\n",
      "- Los parámetros gravitacionales vienen del kernel SPICE DE441."
     ]
    }
   ],
   "source": [
    "pc.constantes?"
   ]
  },
  {
   "cell_type": "code",
   "execution_count": 4,
   "id": "3fd02c4f",
   "metadata": {},
   "outputs": [
    {
     "data": {
      "text/plain": [
       "(array([-2.88732390e+10,  1.43679159e+11,  1.92000567e+07, -2.97269012e+04,\n",
       "        -5.79739787e+03, -2.94835140e-01]),\n",
       " np.float64(2460677.0))"
      ]
     },
     "execution_count": 4,
     "metadata": {},
     "output_type": "execute_result"
    }
   ],
   "source": [
    "tabla, tiempos, matriz = pc.consulta_horizons(\n",
    "    id='399',\n",
    "    location='@0',\n",
    "    epochs='2025-01-01 12:00:00'\n",
    ")\n",
    "matriz, tiempos"
   ]
  },
  {
   "cell_type": "code",
   "execution_count": 6,
   "id": "d1c04042",
   "metadata": {},
   "outputs": [
    {
     "name": "stdout",
     "output_type": "stream",
     "text": [
      "Cargando todos los kernels de SPICE...\n",
      "El entorno está listo para usar los datos de SPICE.\n"
     ]
    }
   ],
   "source": [
    "pc.prepara_spice()"
   ]
  },
  {
   "cell_type": "code",
   "execution_count": 11,
   "id": "1ec39ad1",
   "metadata": {},
   "outputs": [
    {
     "name": "stdout",
     "output_type": "stream",
     "text": [
      "pymcel version  0.6.25\n"
     ]
    },
    {
     "data": {
      "text/plain": [
       "(array([-2.88731332e+10,  1.43679205e+11,  1.91885691e+07, -2.97269012e+04,\n",
       "        -5.79739790e+03, -2.94814107e-01]),\n",
       " array([2460677.]))"
      ]
     },
     "execution_count": 11,
     "metadata": {},
     "output_type": "execute_result"
    }
   ],
   "source": [
    "tabla, tiempos, matriz = pc.consulta_spice(\n",
    "    id='399',\n",
    "    location='@0',\n",
    "    epochs='2025-01-01 12:00:00'\n",
    ")\n",
    "matriz, tiempos"
   ]
  },
  {
   "cell_type": "markdown",
   "id": "7c0b9803",
   "metadata": {},
   "source": [
    "<hr/>"
   ]
  },
  {
   "cell_type": "markdown",
   "id": "79c3838e",
   "metadata": {},
   "source": [
    "Para explorar más ejemplos vaya al repositorio de [`pymcel` en GitHub](https://github.com/seap-udea/pymcel/tree/main/ejemplos)"
   ]
  }
 ],
 "metadata": {
  "kernelspec": {
   "display_name": "Python 3",
   "language": "python",
   "name": "python3"
  },
  "language_info": {
   "codemirror_mode": {
    "name": "ipython",
    "version": 3
   },
   "file_extension": ".py",
   "mimetype": "text/x-python",
   "name": "python",
   "nbconvert_exporter": "python",
   "pygments_lexer": "ipython3",
   "version": "3.12.5"
  }
 },
 "nbformat": 4,
 "nbformat_minor": 5
}
