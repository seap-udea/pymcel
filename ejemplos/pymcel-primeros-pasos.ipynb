{
 "cells": [
  {
   "cell_type": "markdown",
   "id": "e8531c81",
   "metadata": {},
   "source": [
    "# Mecánica Celeste: teoría, algoritmos y problemas\n",
    "## Por Jorge I. Zuluaga"
   ]
  },
  {
   "cell_type": "markdown",
   "id": "074a98d3",
   "metadata": {},
   "source": [
    "### Primeros pasos con `pymcel`\n",
    "<a target=\"_blank\" href=\"https://colab.research.google.com/github/seap-udea/pymcel/blob/main/ejemplos/pymcel-primeros-pasos.ipynb\">\n",
    "  <img src=\"https://colab.research.google.com/assets/colab-badge.svg\" alt=\"Open In Colab\"/>\n",
    "</a>"
   ]
  },
  {
   "cell_type": "markdown",
   "id": "03672f8a",
   "metadata": {},
   "source": [
    "#### Ejecutar antes de comenzar"
   ]
  },
  {
   "cell_type": "markdown",
   "id": "12d0e921",
   "metadata": {},
   "source": [
    "Si estas usando este ejemplo en `Google Colab` debes ejecutar esta celda:"
   ]
  },
  {
   "cell_type": "code",
   "execution_count": 1,
   "id": "7d05f6ac",
   "metadata": {},
   "outputs": [],
   "source": [
    "import sys\n",
    "if 'google.colab' in sys.modules:\n",
    "    !sudo pip install -Uq pymcel rebound"
   ]
  },
  {
   "cell_type": "markdown",
   "id": "3b08717b",
   "metadata": {},
   "source": [
    "Para empezar a usar el paquete es necesario importarlo:"
   ]
  },
  {
   "cell_type": "code",
   "execution_count": 2,
   "id": "dfaaac1c",
   "metadata": {},
   "outputs": [
    {
     "name": "stdout",
     "output_type": "stream",
     "text": [
      "Paquete pymcel cargado. Versión: 0.4.0\n"
     ]
    }
   ],
   "source": [
    "import pymcel as pc\n",
    "%load_ext autoreload \n",
    "%autoreload 2"
   ]
  },
  {
   "cell_type": "markdown",
   "id": "a9acc25a",
   "metadata": {},
   "source": [
    "> **NOTA**: Los *comandos mágicos* `%load_ext` y `%autoreload` solo son necesarios durante la fase de desarrollo. Puedes obviarlos en tus propios cuadernos."
   ]
  },
  {
   "cell_type": "markdown",
   "id": "559492ef",
   "metadata": {},
   "source": [
    "### Variables incorporadas en el paquete"
   ]
  },
  {
   "cell_type": "markdown",
   "id": "5b2d4723",
   "metadata": {},
   "source": [
    "El paquete puede venir con una serie de variables incorporadas cuyo valor puedes ver haciendo:"
   ]
  },
  {
   "cell_type": "code",
   "execution_count": 3,
   "id": "e91e10f3",
   "metadata": {},
   "outputs": [
    {
     "data": {
      "text/plain": [
       "'0.4.0'"
      ]
     },
     "execution_count": 3,
     "metadata": {},
     "output_type": "execute_result"
    }
   ],
   "source": [
    "pc.version"
   ]
  }
 ],
 "metadata": {
  "kernelspec": {
   "display_name": "Python 3 (ipykernel)",
   "language": "python",
   "name": "python3"
  },
  "language_info": {
   "codemirror_mode": {
    "name": "ipython",
    "version": 3
   },
   "file_extension": ".py",
   "mimetype": "text/x-python",
   "name": "python",
   "nbconvert_exporter": "python",
   "pygments_lexer": "ipython3",
   "version": "3.10.12"
  }
 },
 "nbformat": 4,
 "nbformat_minor": 5
}
