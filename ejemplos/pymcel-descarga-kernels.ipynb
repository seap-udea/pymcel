{
 "cells": [
  {
   "cell_type": "markdown",
   "id": "e8531c81",
   "metadata": {},
   "source": [
    "# Mecánica Celeste: teoría, algoritmos y problemas\n",
    "## Por Jorge I. Zuluaga"
   ]
  },
  {
   "cell_type": "markdown",
   "id": "074a98d3",
   "metadata": {},
   "source": [
    "### Primeros pasos con `pymcel`\n",
    "<a target=\"_blank\" href=\"https://colab.research.google.com/github/seap-udea/pymcel/blob/main/ejemplos/pymcel-descarga-kernels.ipynb\">\n",
    "  <img src=\"https://colab.research.google.com/assets/colab-badge.svg\" alt=\"Open In Colab\"/>\n",
    "</a>"
   ]
  },
  {
   "cell_type": "markdown",
   "id": "03672f8a",
   "metadata": {},
   "source": [
    "#### Ejecutar antes de comenzar"
   ]
  },
  {
   "cell_type": "markdown",
   "id": "12d0e921",
   "metadata": {},
   "source": [
    "Si estas usando este ejemplo en `Google Colab` debes ejecutar esta celda:"
   ]
  },
  {
   "cell_type": "code",
   "execution_count": 1,
   "id": "7d05f6ac",
   "metadata": {},
   "outputs": [],
   "source": [
    "import sys\n",
    "if 'google.colab' in sys.modules:\n",
    "    !sudo pip install -Uq pymcel"
   ]
  },
  {
   "cell_type": "code",
   "execution_count": 2,
   "id": "dfaaac1c",
   "metadata": {},
   "outputs": [
    {
     "name": "stdout",
     "output_type": "stream",
     "text": [
      "Paquete pymcel cargado. Versión: 0.5.0\n"
     ]
    }
   ],
   "source": [
    "import pymcel as pc\n",
    "%load_ext autoreload \n",
    "%autoreload 2"
   ]
  },
  {
   "cell_type": "markdown",
   "id": "a9acc25a",
   "metadata": {},
   "source": [
    "> **NOTA**: Los *comandos mágicos* `%load_ext` y `%autoreload` solo son necesarios durante la fase de desarrollo. Puedes obviarlos en tus propios cuadernos."
   ]
  },
  {
   "cell_type": "markdown",
   "id": "4ecc4aa1",
   "metadata": {},
   "source": [
    "### Descarga de datos útiles"
   ]
  },
  {
   "cell_type": "markdown",
   "id": "508ac6e2",
   "metadata": {},
   "source": [
    "La primera tarea que debería hacerse con `pymcel` es la descarga de algunos datos útiles, por ejemplo los `kernels` de `SPICE`. Esta tarea debe hacerse en el directorio donde se va a usar `pymcel`:"
   ]
  },
  {
   "cell_type": "code",
   "execution_count": 3,
   "id": "3d112626",
   "metadata": {},
   "outputs": [
    {
     "name": "stdout",
     "output_type": "stream",
     "text": [
      "Descargando kernel 'de430.bsp' en 'pymcel/'...\n",
      "El kernel 'de430.bsp' ya fue descargado\n",
      "Descargando kernel 'de430_tech-comments.txt' en 'pymcel/'...\n",
      "El kernel 'de430_tech-comments.txt' ya fue descargado\n",
      "Descargando kernel 'latest_leapseconds.tls' en 'pymcel/'...\n",
      "El kernel 'latest_leapseconds.tls' ya fue descargado\n",
      "Descargando kernel 'naif0012.tls' en 'pymcel/'...\n",
      "El kernel 'naif0012.tls' ya fue descargado\n",
      "Descargando kernel 'earth_latest_high_prec.bpc' en 'pymcel/'...\n",
      "El kernel 'earth_latest_high_prec.bpc' ya fue descargado\n",
      "Descargando kernel 'earth_fixed.tf' en 'pymcel/'...\n",
      "El kernel 'earth_fixed.tf' ya fue descargado\n",
      "Descargando kernel 'gm_de431.tpc' en 'pymcel/'...\n",
      "El kernel 'gm_de431.tpc' ya fue descargado\n",
      "Descargando kernel 'pck00011.tpc' en 'pymcel/'...\n",
      "El kernel 'pck00011.tpc' ya fue descargado\n"
     ]
    }
   ],
   "source": [
    "pc.descarga_kernels()"
   ]
  },
  {
   "cell_type": "markdown",
   "id": "34b564cf",
   "metadata": {},
   "source": [
    "Podemos ver la lista de kernels disponibles:"
   ]
  },
  {
   "cell_type": "code",
   "execution_count": 4,
   "id": "082b6a2a",
   "metadata": {},
   "outputs": [
    {
     "name": "stdout",
     "output_type": "stream",
     "text": [
      "Para descargar todos los kernels use: pymcel.descarga_kernels(). Para descargar un kernel específico use pymcel.descarga_kernel(<url>)\n"
     ]
    },
    {
     "data": {
      "text/plain": [
       "['pymcel/data/de430_tech-comments.txt',\n",
       " 'pymcel/data/pck00011.tpc',\n",
       " 'pymcel/data/earth_fixed.tf',\n",
       " 'pymcel/data/de430.bsp',\n",
       " 'pymcel/data/naif0012.tls',\n",
       " 'pymcel/data/latest_leapseconds.tls',\n",
       " 'pymcel/data/earth_latest_high_prec.bpc',\n",
       " 'pymcel/data/gm_de431.tpc']"
      ]
     },
     "execution_count": 4,
     "metadata": {},
     "output_type": "execute_result"
    }
   ],
   "source": [
    "pc.lista_kernels()"
   ]
  },
  {
   "cell_type": "markdown",
   "id": "6600d2ed",
   "metadata": {},
   "source": [
    "Una vez descargado se puede probar a cargar uno de los kernels con `spiceypy`, el paquete que contiene los comandos del sistema `SPICE` de NASA:"
   ]
  },
  {
   "cell_type": "code",
   "execution_count": 5,
   "id": "57afb2aa",
   "metadata": {},
   "outputs": [],
   "source": [
    "import spiceypy as spy \n",
    "spy.furnsh('pymcel/data/latest_leapseconds.tls')"
   ]
  },
  {
   "cell_type": "markdown",
   "id": "90f97819",
   "metadata": {},
   "source": [
    "Si carga correctamente, ahora es posible usar las rutinas de `SPICE` que se apoyan en el kernel respectivo:"
   ]
  },
  {
   "cell_type": "code",
   "execution_count": 6,
   "id": "9bb6bd44",
   "metadata": {},
   "outputs": [
    {
     "data": {
      "text/plain": [
       "64.18392728473108"
      ]
     },
     "execution_count": 6,
     "metadata": {},
     "output_type": "execute_result"
    }
   ],
   "source": [
    "spy.utc2et('2000-01-01 12:00:00')"
   ]
  },
  {
   "cell_type": "markdown",
   "id": "7c0b9803",
   "metadata": {},
   "source": [
    "<hr/>"
   ]
  },
  {
   "cell_type": "markdown",
   "id": "79c3838e",
   "metadata": {},
   "source": [
    "Para explorar más ejemplos vaya al repositorio de [`pymcel` en GitHub](https://github.com/seap-udea/pymcel/tree/main/ejemplos)"
   ]
  }
 ],
 "metadata": {
  "kernelspec": {
   "display_name": "Python 3 (ipykernel)",
   "language": "python",
   "name": "python3"
  },
  "language_info": {
   "codemirror_mode": {
    "name": "ipython",
    "version": 3
   },
   "file_extension": ".py",
   "mimetype": "text/x-python",
   "name": "python",
   "nbconvert_exporter": "python",
   "pygments_lexer": "ipython3",
   "version": "3.10.12"
  }
 },
 "nbformat": 4,
 "nbformat_minor": 5
}
