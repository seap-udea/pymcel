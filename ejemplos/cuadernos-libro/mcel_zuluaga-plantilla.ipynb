{
 "cells": [
  {
   "cell_type": "markdown",
   "id": "e8531c81",
   "metadata": {},
   "source": [
    "# Mecánica Celeste: teoría, algoritmos y problemas\n",
    "# Por Jorge I. Zuluaga"
   ]
  },
  {
   "cell_type": "markdown",
   "id": "19a85743",
   "metadata": {},
   "source": [
    "En estos cuadernos hemos compilado la mayoría de los códigos que vienen con el libro [**Mecánica Celeste: teoría, algoritmos y problemas**](https://www.libreriadelau.com/bw-mecanica-celeste-teoria-algoritmos-y-problemas-u-de-antioquia-fisica/p). En cada cuaderno encontrará códigos de secciones o capítulos enteros. Para explicaciones detalladas de lo que hacen los códigos refiérase a la sección o capítulo respectivo. Para mayor comodidad puede leer o ejecutar este cuaderno usando `Google Colab`.\n",
    "\n",
    "<a target=\"_blank\" href=\"https://colab.research.google.com/github/seap-udea/pymcel/blob/main/ejemplos/cuadernos-libro/mcel_zuluaga-plantilla.ipynb\">\n",
    "  <img src=\"https://colab.research.google.com/assets/colab-badge.svg\" alt=\"Open In Colab\"/>\n",
    "</a>"
   ]
  },
  {
   "cell_type": "markdown",
   "id": "074a98d3",
   "metadata": {},
   "source": [
    "## Algorítmos plantilla"
   ]
  },
  {
   "cell_type": "markdown",
   "id": "03672f8a",
   "metadata": {},
   "source": [
    "### Instalación e importación"
   ]
  },
  {
   "cell_type": "markdown",
   "id": "5c222703",
   "metadata": {},
   "source": [
    "Si está usando este cuaderno en `Colab` debería instalar `pymcel` antes de comenzar: "
   ]
  },
  {
   "cell_type": "code",
   "execution_count": 16,
   "id": "7d05f6ac",
   "metadata": {},
   "outputs": [],
   "source": [
    "!pip install -Uq pymcel"
   ]
  },
  {
   "cell_type": "code",
   "execution_count": 1,
   "id": "fad91d6d",
   "metadata": {},
   "outputs": [],
   "source": [
    "# Este código se usa solamente para desarrollar estos cuadernos pero es inocuo en otros contextos\n",
    "%load_ext autoreload \n",
    "%autoreload 2"
   ]
  },
  {
   "cell_type": "markdown",
   "id": "4ecc4aa1",
   "metadata": {},
   "source": [
    "### Nombre de sección"
   ]
  },
  {
   "cell_type": "markdown",
   "id": "22578c3d",
   "metadata": {},
   "source": [
    "Texto descriptivo básico"
   ]
  },
  {
   "cell_type": "code",
   "execution_count": null,
   "id": "3d112626",
   "metadata": {},
   "outputs": [
    {
     "name": "stdout",
     "output_type": "stream",
     "text": [
      "E =  0.6886561865220447\n"
     ]
    }
   ],
   "source": [
    "import math\n",
    "e=0.3\n",
    "M=0.5\n",
    "E=M\n",
    "Eo=2*M\n",
    "while abs(E-Eo)>0.01:\n",
    "    Eo=E\n",
    "    E=M+e*math.sin(E)\n",
    "print(\"E = \",E)"
   ]
  },
  {
   "cell_type": "markdown",
   "id": "7c0b9803",
   "metadata": {},
   "source": [
    "<hr/>"
   ]
  },
  {
   "cell_type": "markdown",
   "id": "79c3838e",
   "metadata": {},
   "source": [
    "Para explorar más cuadernos del libro vaya al [repositorio de en GitHub](https://github.com/seap-udea/pymcel/tree/main/ejemplos/cuadernos-libro)"
   ]
  }
 ],
 "metadata": {
  "kernelspec": {
   "display_name": "Python 3 (ipykernel)",
   "language": "python",
   "name": "python3"
  },
  "language_info": {
   "codemirror_mode": {
    "name": "ipython",
    "version": 3
   },
   "file_extension": ".py",
   "mimetype": "text/x-python",
   "name": "python",
   "nbconvert_exporter": "python",
   "pygments_lexer": "ipython3",
   "version": "3.10.12"
  }
 },
 "nbformat": 4,
 "nbformat_minor": 5
}
