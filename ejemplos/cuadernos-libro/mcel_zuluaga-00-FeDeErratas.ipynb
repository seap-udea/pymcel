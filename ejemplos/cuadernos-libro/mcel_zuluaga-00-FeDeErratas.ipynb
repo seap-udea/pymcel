{
 "cells": [
  {
   "cell_type": "markdown",
   "metadata": {},
   "source": [
    "# Mecánica Celeste: teoría, algoritmos y problemas\n",
    "### Por Jorge I. Zuluaga"
   ]
  },
  {
   "cell_type": "markdown",
   "metadata": {},
   "source": [
    "## Fe de Erratas"
   ]
  },
  {
   "cell_type": "markdown",
   "metadata": {},
   "source": [
    "En este notebook encontraran correcciones a la [pirmera edición del libro \"Mecánica Celeste: teoría, algoritmos y problemas\"](https://www.libreriadelau.com/mecanica-celeste-u-de-antioquia-fisica/p).\n",
    "\n",
    "Si encuentra algún error en el libro y quiere ayudarnos a corregirlo no dude en escribirme directamente a [jorge.zuluaga@udea.edu.co](mailto:jorge.zuluaga@udea.edu.co)."
   ]
  },
  {
   "cell_type": "markdown",
   "metadata": {},
   "source": [
    "### Capítulo 1"
   ]
  },
  {
   "cell_type": "markdown",
   "metadata": {},
   "source": [
    "- La Figura 1.1. en la página 4 no es la que ilustra los concepto de suma, resta y multiplicación de vectores. Está es la figura correcta:\n",
    "\n",
    "<p align=\"center\"><img src=\"https://github.com/seap-udea/pymcel/blob/main/ejemplos/figuras/square_vectores_definicion.png?raw=true\"/></p>\n",
    "\n",
    "- La ecuación (2.29) tiene un error debería ser:\n",
    "\n",
    "  $$\n",
    "  G = \\frac{U_L^3}{U_M U_T^2}\n",
    "  $$\n",
    "\n",
    "  La ecuación ante de ella sería\n",
    "  $$\n",
    "  G \\frac{U_M U_T^2}{U_L^3} = 1 \\frac{\\cal L^3}{\\cal M\\cdot\\cal T^2}\n",
    "  $$"
   ]
  },
  {
   "cell_type": "markdown",
   "metadata": {},
   "source": [
    "<hr/>"
   ]
  },
  {
   "cell_type": "markdown",
   "metadata": {},
   "source": [
    "Recuerde, si encuentra algún error en el libro y quiere ayudarnos a corregirlo no dude en escribirme directamente a [jorge.zuluaga@udea.edu.co](mailto:jorge.zuluaga@udea.edu.co)."
   ]
  }
 ],
 "metadata": {
  "language_info": {
   "name": "python"
  }
 },
 "nbformat": 4,
 "nbformat_minor": 2
}
