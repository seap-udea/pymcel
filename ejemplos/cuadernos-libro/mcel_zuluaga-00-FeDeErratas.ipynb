{
 "cells": [
  {
   "cell_type": "markdown",
   "metadata": {},
   "source": [
    "# Mecánica Celeste: teoría, algoritmos y problemas\n",
    "### Por Jorge I. Zuluaga"
   ]
  },
  {
   "cell_type": "markdown",
   "metadata": {},
   "source": [
    "## Fe de Erratas"
   ]
  },
  {
   "cell_type": "markdown",
   "metadata": {},
   "source": [
    "En este notebook encontraran correcciones a la [pirmera edición del libro \"Mecánica Celeste: teoría, algoritmos y problemas\"](https://www.buscalibre.com.co/libro-mecanica-celeste-teoria-algoritmos-y-problemas/9789585011953/p/62242977?afiliado=74c874bfb5a8145d7c1b).\n",
    "\n",
    "Si encuentra algún error en el libro y quiere ayudarnos a corregirlo no dude en escribirme directamente a [jorge.zuluaga@udea.edu.co](mailto:jorge.zuluaga@udea.edu.co)."
   ]
  },
  {
   "cell_type": "markdown",
   "metadata": {},
   "source": [
    "### Capítulo 1"
   ]
  },
  {
   "cell_type": "markdown",
   "metadata": {},
   "source": [
    "- La Figura 1.1. en la página 4 no es la que ilustra los concepto de suma, resta y multiplicación de vectores. Está es la figura correcta:\n",
    "\n",
    "<p align=\"center\"><img src=\"https://github.com/seap-udea/pymcel/blob/main/ejemplos/figuras/square_vectores_definicion.png?raw=true\"/></p>\n"
   ]
  },
  {
   "cell_type": "markdown",
   "metadata": {},
   "source": [
    "## Capítulo 2"
   ]
  },
  {
   "cell_type": "markdown",
   "metadata": {},
   "source": [
    "- La ecuación (2.29) tiene un error debería ser:\n",
    "\n",
    "  $$\n",
    "  G = \\frac{U_L^3}{U_M U_T^2}\n",
    "  $$\n",
    "\n",
    "  La ecuación ante de ella sería\n",
    "  $$\n",
    "  G \\frac{U_M U_T^2}{U_L^3} = 1 \\frac{\\cal L^3}{\\cal M\\cdot\\cal T^2}\n",
    "  $$\n",
    "\n",
    "- En el problema 5, la función potencial $U_i$ que se pide deducir, no es la misma que se deduce en el texto, $V_i$ y que corresponde a la función de potencial que permite calcular la aceleración de la partícula i-esima respecto del sistema de referencia inercial. Lo que se pide en el problema es demostrar de esta $U_i$ se deriva la aceleración de la partícula i-esima, **con respecto al cuerpo 0**. \n",
    "\n",
    "  Es interesante anotar que en estudios del sistema solar, el Sol sigue considerándose como un cuerpo en reposo en el centro del sistema planetario. Lo que este problema busca es mostrar como la teoría del problema de N-cuerpos permite obtener la forma matemática del potencial gravitacional de las partículas respecto del Sol como sistema de referencia no inercial, y hacer evidente la manera en la que el potencial se modifica debido a la aceleración de el mismo Sol y que es producida por la atracción producida por las otras partículas."
   ]
  },
  {
   "cell_type": "markdown",
   "metadata": {},
   "source": [
    "<hr/>"
   ]
  },
  {
   "cell_type": "markdown",
   "metadata": {},
   "source": [
    "Recuerde, si encuentra algún error en el libro y quiere ayudarnos a corregirlo no dude en escribirme directamente a [jorge.zuluaga@udea.edu.co](mailto:jorge.zuluaga@udea.edu.co)."
   ]
  }
 ],
 "metadata": {
  "kernelspec": {
   "display_name": "Python 3",
   "language": "python",
   "name": "python3"
  },
  "language_info": {
   "codemirror_mode": {
    "name": "ipython",
    "version": 3
   },
   "file_extension": ".py",
   "mimetype": "text/x-python",
   "name": "python",
   "nbconvert_exporter": "python",
   "pygments_lexer": "ipython3",
   "version": "3.12.5"
  }
 },
 "nbformat": 4,
 "nbformat_minor": 2
}
