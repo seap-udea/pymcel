{
 "cells": [
  {
   "cell_type": "markdown",
   "id": "e8531c81",
   "metadata": {},
   "source": [
    "# Mecánica Celeste: teoría, algoritmos y problemas\n",
    "## Por Jorge I. Zuluaga"
   ]
  },
  {
   "cell_type": "markdown",
   "id": "074a98d3",
   "metadata": {},
   "source": [
    "### Algorítmos del prefacio\n",
    "<a target=\"_blank\" href=\"https://colab.research.google.com/github/seap-udea/pymcel/blob/main/ejemplos/cuadernos-libro/mcel_zuluaga-prefacio.ipynb\">\n",
    "  <img src=\"https://colab.research.google.com/assets/colab-badge.svg\" alt=\"Open In Colab\"/>\n",
    "</a>"
   ]
  },
  {
   "cell_type": "markdown",
   "id": "03672f8a",
   "metadata": {},
   "source": [
    "### En Google Colaboratory ejecutar esto antes de comenzar"
   ]
  },
  {
   "cell_type": "code",
   "execution_count": 10,
   "id": "7d05f6ac",
   "metadata": {},
   "outputs": [],
   "source": [
    "import sys\n",
    "if 'google.colab' in sys.modules:\n",
    "    !sudo pip install -Uq pymcel"
   ]
  },
  {
   "cell_type": "markdown",
   "id": "4ecc4aa1",
   "metadata": {},
   "source": [
    "### Algoritmos básicos"
   ]
  },
  {
   "cell_type": "markdown",
   "id": "22578c3d",
   "metadata": {},
   "source": [
    "¿Qué hace este código?"
   ]
  },
  {
   "cell_type": "code",
   "execution_count": 1,
   "id": "3d112626",
   "metadata": {},
   "outputs": [
    {
     "name": "stdout",
     "output_type": "stream",
     "text": [
      "E =  0.6886561865220447\n"
     ]
    }
   ],
   "source": [
    "import math\n",
    "e=0.3\n",
    "M=0.5\n",
    "E=M\n",
    "Eo=2*M\n",
    "while abs(E-Eo)>0.01:\n",
    "    Eo=E\n",
    "    E=M+e*math.sin(E)\n",
    "print(\"E = \",E)"
   ]
  },
  {
   "cell_type": "markdown",
   "id": "34b564cf",
   "metadata": {},
   "source": [
    "El lenguaje más sencillo:"
   ]
  },
  {
   "cell_type": "code",
   "execution_count": 2,
   "id": "082b6a2a",
   "metadata": {},
   "outputs": [
    {
     "name": "stdout",
     "output_type": "stream",
     "text": [
      "pi a la 1 es 3.141592653589793\n",
      "pi a la 2 es 9.869604401089358\n",
      "pi a la 3 es 31.006276680299816\n",
      "pi a la 4 es 97.40909103400242\n"
     ]
    }
   ],
   "source": [
    "from math import pi\n",
    "for n in range(1,5):\n",
    "    print(\"pi a la\",n,\"es\",pi**n)"
   ]
  },
  {
   "cell_type": "markdown",
   "id": "6600d2ed",
   "metadata": {},
   "source": [
    "Una gráfica básica en Python:"
   ]
  },
  {
   "cell_type": "code",
   "execution_count": 3,
   "id": "57afb2aa",
   "metadata": {},
   "outputs": [
    {
     "data": {
      "image/png": "[encoded data removed]",
      "text/plain": [
       "<Figure size 640x480 with 1 Axes>"
      ]
     },
     "metadata": {},
     "output_type": "display_data"
    }
   ],
   "source": [
    "from matplotlib.pyplot import plot\n",
    "plot([1,2,3,4],[1,4,9,16]);"
   ]
  },
  {
   "cell_type": "markdown",
   "id": "90f97819",
   "metadata": {},
   "source": [
    "Mecánica celeste en SPICE:"
   ]
  },
  {
   "cell_type": "markdown",
   "id": "bc7d7649",
   "metadata": {},
   "source": [
    "Antes de usar `SPICE` es necesario descargar los kernels:"
   ]
  },
  {
   "cell_type": "code",
   "execution_count": 5,
   "id": "63f91984",
   "metadata": {},
   "outputs": [
    {
     "name": "stdout",
     "output_type": "stream",
     "text": [
      "Paquete pymcel cargado. Versión: 0.5.1\n",
      "Descargando kernel 'de430.bsp' en 'pymcel/'...\n",
      "Hecho.\n",
      "Descargando kernel 'de430_tech-comments.txt' en 'pymcel/'...\n",
      "Hecho.\n",
      "Descargando kernel 'latest_leapseconds.tls' en 'pymcel/'...\n",
      "Hecho.\n",
      "Descargando kernel 'naif0012.tls' en 'pymcel/'...\n",
      "Hecho.\n",
      "Descargando kernel 'earth_latest_high_prec.bpc' en 'pymcel/'...\n",
      "Hecho.\n",
      "Descargando kernel 'earth_fixed.tf' en 'pymcel/'...\n",
      "Hecho.\n",
      "Descargando kernel 'gm_de431.tpc' en 'pymcel/'...\n",
      "Hecho.\n",
      "Descargando kernel 'pck00011.tpc' en 'pymcel/'...\n",
      "Hecho.\n"
     ]
    }
   ],
   "source": [
    "from pymcel import descarga_kernels\n",
    "descarga_kernels()"
   ]
  },
  {
   "cell_type": "markdown",
   "id": "64a2da94",
   "metadata": {},
   "source": [
    "Uso básico de `SPICE`:"
   ]
  },
  {
   "cell_type": "code",
   "execution_count": 7,
   "id": "9bb6bd44",
   "metadata": {},
   "outputs": [
    {
     "data": {
      "text/plain": [
       "151649283.69139883"
      ]
     },
     "execution_count": 7,
     "metadata": {},
     "output_type": "execute_result"
    }
   ],
   "source": [
    "import spiceypy as spy\n",
    "spy.furnsh('pymcel/data/naif0012.tls')\n",
    "spy.furnsh('pymcel/data/de430.bsp')\n",
    "et=spy.str2et(\"05/29/1919 09:08:00 UTC-3\")\n",
    "sol,tluz=spy.spkgeo(10,et,\"J2000\",0)\n",
    "tierra,tluz=spy.spkgeo(399,et,\"J2000\",0)\n",
    "distancia=spy.vnorm(tierra-sol)\n",
    "distancia"
   ]
  },
  {
   "cell_type": "markdown",
   "id": "7c0b9803",
   "metadata": {},
   "source": [
    "<hr/>"
   ]
  },
  {
   "cell_type": "markdown",
   "id": "79c3838e",
   "metadata": {},
   "source": [
    "Para explorar más cuadernos del libro vaya al [repositorio de en GitHub](https://github.com/seap-udea/pymcel/tree/main/ejemplos/cuadernos-libro)"
   ]
  }
 ],
 "metadata": {
  "kernelspec": {
   "display_name": "Python 3 (ipykernel)",
   "language": "python",
   "name": "python3"
  },
  "language_info": {
   "codemirror_mode": {
    "name": "ipython",
    "version": 3
   },
   "file_extension": ".py",
   "mimetype": "text/x-python",
   "name": "python",
   "nbconvert_exporter": "python",
   "pygments_lexer": "ipython3",
   "version": "3.10.12"
  }
 },
 "nbformat": 4,
 "nbformat_minor": 5
}
