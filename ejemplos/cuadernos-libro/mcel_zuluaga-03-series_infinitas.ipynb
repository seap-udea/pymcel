{
 "cells": [
  {
   "cell_type": "markdown",
   "id": "e8531c81",
   "metadata": {},
   "source": [
    "# Mecánica Celeste: teoría, algoritmos y problemas\n",
    "# Por Jorge I. Zuluaga"
   ]
  },
  {
   "cell_type": "markdown",
   "id": "19a85743",
   "metadata": {},
   "source": [
    "En estos cuadernos hemos compilado la mayoría de los códigos que vienen con el libro [**Mecánica Celeste: teoría, algoritmos y problemas**](https://www.buscalibre.com.co/libro-mecanica-celeste-teoria-algoritmos-y-problemas/9789585011953/p/62242977?afiliado=74c874bfb5a8145d7c1b). En cada cuaderno encontrará códigos de secciones o capítulos enteros. Para explicaciones detalladas de lo que hacen los códigos refiérase a la sección o capítulo respectivo. Para mayor comodidad puede leer o ejecutar este cuaderno usando `Google Colab`.\n",
    "\n",
    "<a target=\"_blank\" href=\"https://colab.research.google.com/github/seap-udea/pymcel/blob/main/ejemplos/cuadernos-libro/mcel_zuluaga-03-series_infinitas.ipynb\">\n",
    "  <img src=\"https://colab.research.google.com/assets/colab-badge.svg\" alt=\"Open In Colab\"/>\n",
    "</a>"
   ]
  },
  {
   "cell_type": "markdown",
   "id": "074a98d3",
   "metadata": {},
   "source": [
    "## Algorítmos de Series infinitas"
   ]
  },
  {
   "cell_type": "markdown",
   "id": "03672f8a",
   "metadata": {},
   "source": [
    "### Instalación e importación"
   ]
  },
  {
   "cell_type": "markdown",
   "id": "5c222703",
   "metadata": {},
   "source": [
    "Si está usando este cuaderno en `Colab` debería instalar `pymcel` antes de comenzar: "
   ]
  },
  {
   "cell_type": "code",
   "execution_count": 16,
   "id": "7d05f6ac",
   "metadata": {},
   "outputs": [],
   "source": [
    "!pip install -Uq pymcel"
   ]
  },
  {
   "cell_type": "code",
   "execution_count": null,
   "id": "eb07b46b",
   "metadata": {},
   "outputs": [],
   "source": [
    "# Este código se usa solamente para desarrollar estos cuadernos pero es inocuo en otros contextos\n",
    "%load_ext autoreload \n",
    "%autoreload 2"
   ]
  },
  {
   "cell_type": "markdown",
   "id": "4ecc4aa1",
   "metadata": {},
   "source": [
    "### Errores de máquina"
   ]
  },
  {
   "cell_type": "markdown",
   "id": "22578c3d",
   "metadata": {},
   "source": [
    "¿Cuál es el número más pequeño $\\varepsilon$ tal que $1+\\varepsilon=1$?:"
   ]
  },
  {
   "cell_type": "code",
   "execution_count": 3,
   "id": "3d112626",
   "metadata": {},
   "outputs": [
    {
     "name": "stdout",
     "output_type": "stream",
     "text": [
      "1.00000000000000000000\n"
     ]
    }
   ],
   "source": [
    "x=1+1e-16\n",
    "\n",
    "print(f\"{x:.20f}\")"
   ]
  },
  {
   "cell_type": "markdown",
   "id": "b0413727",
   "metadata": {},
   "source": [
    "¿Cuántos decimales guarda `python`:"
   ]
  },
  {
   "cell_type": "code",
   "execution_count": 4,
   "id": "6d78f569",
   "metadata": {},
   "outputs": [
    {
     "name": "stdout",
     "output_type": "stream",
     "text": [
      "0.123456789012345677369886232100\n"
     ]
    }
   ],
   "source": [
    "x=0.123456789012345678901234567890\n",
    "\n",
    "print(f\"{x:.30f}\")"
   ]
  },
  {
   "cell_type": "markdown",
   "id": "59050e5e",
   "metadata": {},
   "source": [
    "Errores de reondeo:"
   ]
  },
  {
   "cell_type": "code",
   "execution_count": 6,
   "id": "8fe818e0",
   "metadata": {},
   "outputs": [
    {
     "name": "stdout",
     "output_type": "stream",
     "text": [
      "x = +1.000000000000000e+00\n",
      "y = +1.000000000000000e-01\n",
      "z = +9.997558593750000e-02\n"
     ]
    }
   ],
   "source": [
    "N=1e12\n",
    "x=1.0\n",
    "y=0.1\n",
    "z=(N*x+y)-(N*x)\n",
    "\n",
    "print(f\"x = {x:+.15e}\")\n",
    "print(f\"y = {y:+.15e}\")\n",
    "print(f\"z = {z:+.15e}\")"
   ]
  },
  {
   "cell_type": "markdown",
   "id": "0f5ebd3a",
   "metadata": {},
   "source": [
    "### Cálculo numérico de series infinitas"
   ]
  },
  {
   "cell_type": "markdown",
   "id": "a13367af",
   "metadata": {},
   "source": [
    "Cálculo de un valor aproximado de la serie de la función seno:"
   ]
  },
  {
   "cell_type": "code",
   "execution_count": 7,
   "id": "b379ee41",
   "metadata": {},
   "outputs": [
    {
     "name": "stdout",
     "output_type": "stream",
     "text": [
      "s_18(9.42478) = -7.6538436107548528e-08\n",
      "sin(9.42478) = 3.6739403974420594e-16\n"
     ]
    }
   ],
   "source": [
    "from math import factorial\n",
    "from numpy import pi\n",
    "\n",
    "#Numero de términos de la serie\n",
    "k=18\n",
    "#Valor del ángulo\n",
    "t=3*pi\n",
    "#Suma parcial\n",
    "sk=0\n",
    "for n in range(k):\n",
    "    sk+=(-1)**n*t**(2*n+1)/factorial(2*n+1)\n",
    "\n",
    "from numpy import sin\n",
    "print(f\"s_{k}({t:g}) = {sk:.16e}\")\n",
    "print(f\"sin({t:g}) = {sin(t):.16e}\")"
   ]
  },
  {
   "cell_type": "markdown",
   "id": "570e5252",
   "metadata": {},
   "source": [
    "El mismo cálculo pero aprovechando las propiedades de la función seno:"
   ]
  },
  {
   "cell_type": "code",
   "execution_count": 8,
   "id": "7afd35eb",
   "metadata": {},
   "outputs": [
    {
     "name": "stdout",
     "output_type": "stream",
     "text": [
      "s_18(9.42478) = 3.3280566951896521e-16\n",
      "sin(9.42478) = 3.6739403974420594e-16\n"
     ]
    }
   ],
   "source": [
    "#Valor de t mapeado en el intervalo [0,2 pi)\n",
    "from numpy import mod\n",
    "tn=mod(t,2*pi)\n",
    "\n",
    "#Suma parcial\n",
    "sk=0\n",
    "for n in range(k):\n",
    "    sk+=(-1)**n*mod(tn,2*pi)**(2*n+1)/factorial(2*n+1)\n",
    "\n",
    "from numpy import sin\n",
    "print(f\"s_{k}({t:g}) = {sk:.16e}\")\n",
    "print(f\"sin({t:g}) = {sin(t):.16e}\")    "
   ]
  },
  {
   "cell_type": "markdown",
   "id": "8ce97413",
   "metadata": {},
   "source": [
    "Calculo de la serie de la función $\\exp(-t)$:"
   ]
  },
  {
   "cell_type": "code",
   "execution_count": 9,
   "id": "cc804d45",
   "metadata": {},
   "outputs": [
    {
     "name": "stdout",
     "output_type": "stream",
     "text": [
      "s_10(1) = -1.8271053791887111e+00\n",
      "exp(1) = 2.7182818284590451e+00\n"
     ]
    }
   ],
   "source": [
    "#Número de términos en la serie\n",
    "k=10\n",
    "#Valor de t\n",
    "t=5.0\n",
    "#Suma pacial de exp(-t)\n",
    "sk=0\n",
    "for n in range(k):\n",
    "    sk+=(-1)**n*t**n/factorial(n)\n",
    "\n",
    "from numpy import exp\n",
    "print(f\"s_{k}({x:g}) = {sk:.16e}\")\n",
    "print(f\"exp({x:g}) = {exp(x):.16e}\")"
   ]
  },
  {
   "cell_type": "markdown",
   "id": "89209d12",
   "metadata": {},
   "source": [
    "El mismo cálculo pero usando la propiedad $\\exp(-t)=1/\\exp(t)$:"
   ]
  },
  {
   "cell_type": "code",
   "execution_count": 10,
   "id": "e7337c28",
   "metadata": {},
   "outputs": [
    {
     "name": "stdout",
     "output_type": "stream",
     "text": [
      "1/s_10(5) = 6.9594528636495370e-03\n",
      "exp(5) = 6.7379469990854670e-03\n"
     ]
    }
   ],
   "source": [
    "#Suma parcial de exp(t)\n",
    "sk=0\n",
    "for n in range(k):\n",
    "    sk+=t**n/factorial(n)\n",
    "\n",
    "from numpy import exp\n",
    "print(f\"1/s_{k}({t:g}) = {1/sk:.16e}\")\n",
    "print(f\"exp({t:g}) = {exp(-t):.16e}\")"
   ]
  },
  {
   "cell_type": "markdown",
   "id": "fbd097bd",
   "metadata": {},
   "source": [
    "Rutina para el cálculo de serie de Taylor usando criterio de convergencia:"
   ]
  },
  {
   "cell_type": "code",
   "execution_count": 12,
   "id": "91b871d1",
   "metadata": {},
   "outputs": [],
   "source": [
    "def exp_taylor(t,delta=1e-15):\n",
    "    #Valor inicial del error relativo (número arbitrario)\n",
    "    Dn=1\n",
    "    #Primer valor de la suma parcial\n",
    "    sn=0\n",
    "    #Inicializa contador de términos\n",
    "    n=0\n",
    "    #El ciclo continúa mientras no se alcance la tolerancia\n",
    "    while Dn>delta:\n",
    "        #Almacena el último valor de la suma\n",
    "        s=sn\n",
    "        #Calcula el término n-esimo de la suma\n",
    "        from math import factorial\n",
    "        an=t**n/factorial(n)\n",
    "        #Agrega el término a la suma n-esima\n",
    "        sn+=an\n",
    "        #Promedio de dos sumas parciales sucesivas\n",
    "        smed=(sn+s)/2\n",
    "        #Error relativo\n",
    "        Dn=abs(an/smed)\n",
    "        #Incremento en el contador n\n",
    "        n+=1\n",
    "    return sn,Dn,n"
   ]
  },
  {
   "cell_type": "markdown",
   "id": "adbb1061",
   "metadata": {},
   "source": [
    "Prueba de la rutina en el caso estudiado antes:"
   ]
  },
  {
   "cell_type": "code",
   "execution_count": 13,
   "id": "eaf566f6",
   "metadata": {},
   "outputs": [
    {
     "name": "stdout",
     "output_type": "stream",
     "text": [
      "x = exp(-20) = 5.4781029165292094e-10 (error 7.00e-16, n = 96)\n",
      "1/y = 1/exp(+20) = 2.0611536224385591e-09 (error 9.22e-16, n = 66)\n",
      "exp(-20) = 2.0611536224385579e-09\n"
     ]
    }
   ],
   "source": [
    "t=20\n",
    "x,error_x,n_x=exp_taylor(-t)\n",
    "y,error_y,n_y=exp_taylor(+t)\n",
    "\n",
    "from numpy import exp\n",
    "print(f\"x = exp(-{t:g}) = {x:.16e} (error {error_x:.2e}, n = {n_x})\")\n",
    "print(f\"1/y = 1/exp(+{t:g}) = {1/y:.16e} (error {error_y:.2e}, n = {n_y})\")\n",
    "print(f\"exp(-{t:g}) = {exp(-t):.16e}\")"
   ]
  },
  {
   "cell_type": "markdown",
   "id": "b5616526",
   "metadata": {},
   "source": [
    "### Series de Stumpff"
   ]
  },
  {
   "cell_type": "markdown",
   "id": "2ceb43f7",
   "metadata": {},
   "source": [
    "Verificación de las reglas de recurrencias:"
   ]
  },
  {
   "cell_type": "code",
   "execution_count": 16,
   "id": "32143759",
   "metadata": {},
   "outputs": [
    {
     "name": "stdout",
     "output_type": "stream",
     "text": [
      "Regla de recurrencia:\n",
      "c_4(2) = 0.03898592369134362\n",
      "1/4!-t c_6(2) = 0.03898592369134361\n"
     ]
    }
   ],
   "source": [
    "#Verifica las reglas de recurrencia\n",
    "t=2\n",
    "k=4\n",
    "\n",
    "from pymcel.export import serie_stumpff\n",
    "ck=serie_stumpff(t,k)\n",
    "ckp2=serie_stumpff(t,k+2)\n",
    "\n",
    "from math import factorial\n",
    "print(\"Regla de recurrencia:\")\n",
    "print(f\"c_{k}({t}) = {ck}\")\n",
    "print(f\"1/{k}!-t c_{k+2}({t}) = {1/factorial(k)-t*ckp2}\")"
   ]
  },
  {
   "cell_type": "markdown",
   "id": "74a0eae1",
   "metadata": {},
   "source": [
    "Verificación de las reglas de escalado:"
   ]
  },
  {
   "cell_type": "code",
   "execution_count": 17,
   "id": "490ad01d",
   "metadata": {},
   "outputs": [
    {
     "name": "stdout",
     "output_type": "stream",
     "text": [
      "c_0(8) = -0.9513631281258474, con escalado = -0.9513631281258474\n",
      "c_1(8) = 0.10891980905843202, con escalado = 0.10891980905843208\n",
      "c_2(8) = 0.24392039101573093, con escalado = 0.24392039101573093\n",
      "c_3(8) = 0.111385023867696, con escalado = 0.11138502386769598\n"
     ]
    }
   ],
   "source": [
    "#Verifica las reglas de escalado\n",
    "t=2\n",
    "k=4\n",
    "\n",
    "from pymcel.export import serie_stumpff\n",
    "c0_4t=serie_stumpff(4*t,0)\n",
    "c0_t=serie_stumpff(t,0)\n",
    "c1_4t=serie_stumpff(4*t,1)\n",
    "c1_t=serie_stumpff(t,1)\n",
    "c2_4t=serie_stumpff(4*t,2)\n",
    "c2_t=serie_stumpff(t,2)\n",
    "c3_4t=serie_stumpff(4*t,3)\n",
    "c3_t=serie_stumpff(t,3)\n",
    "\n",
    "print(f\"c_0({4*t}) = {c0_4t}, con escalado = {2*c0_t**2-1}\")\n",
    "print(f\"c_1({4*t}) = {c1_4t}, con escalado = {c0_t*c1_t}\")\n",
    "print(f\"c_2({4*t}) = {c2_4t}, con escalado = {0.5*c1_t**2}\")\n",
    "print(f\"c_3({4*t}) = {c3_4t}, con escalado = {0.25*c2_t+0.25*c0_t*c3_t}\")"
   ]
  },
  {
   "cell_type": "markdown",
   "id": "35076eb1",
   "metadata": {},
   "source": [
    "### Series de Fourier"
   ]
  },
  {
   "cell_type": "markdown",
   "id": "dc4ad783",
   "metadata": {},
   "source": [
    "Cálculo de los coeficientes de Fourier:"
   ]
  },
  {
   "cell_type": "code",
   "execution_count": 1,
   "id": "3cee29c6",
   "metadata": {},
   "outputs": [],
   "source": [
    "def coeficientes_fourier(funcion,T,k,args=()):\n",
    "    #Funciones externas\n",
    "    from scipy.integrate import quad\n",
    "    from numpy import sin,cos\n",
    "\n",
    "    #Parametro omega\n",
    "    w=2*pi/T\n",
    "    \n",
    "    #Determina los coeficientes en t:\n",
    "    f=lambda t:funcion(t,*args)\n",
    "    As=[2*quad(f,0,T,args=args)[0]/T]\n",
    "    Bs=[0]\n",
    "    for n in range(1,k+1):\n",
    "        f_cos_n=lambda t:funcion(t,*args)*cos(n*w*t)\n",
    "        As+=[2*quad(f_cos_n,0,T)[0]/T]\n",
    "        f_sin_n=lambda t:funcion(t,*args)*sin(n*w*t)\n",
    "        Bs+=[2*quad(f_sin_n,0,T)[0]/T]\n",
    "    \n",
    "    return As,Bs"
   ]
  },
  {
   "cell_type": "markdown",
   "id": "e795cf88",
   "metadata": {},
   "source": [
    "Cálculo de la serie de Fourier:"
   ]
  },
  {
   "cell_type": "code",
   "execution_count": 2,
   "id": "a1820c2a",
   "metadata": {},
   "outputs": [],
   "source": [
    "def serie_fourier(t,As,Bs,T,k):\n",
    "    from numpy import sin,cos\n",
    "\n",
    "    #Parametro omega\n",
    "    w=2*pi/T\n",
    "\n",
    "    #Calcula la suma\n",
    "    sk=As[0]/2\n",
    "    for n in range(1,k+1):\n",
    "        sk+=As[n]*cos(n*w*t)+Bs[n]*sin(n*w*t)\n",
    "    \n",
    "    return sk"
   ]
  },
  {
   "cell_type": "markdown",
   "id": "be5d54cb",
   "metadata": {},
   "source": [
    "La serie de Fourier de una línea recta:"
   ]
  },
  {
   "cell_type": "code",
   "execution_count": 5,
   "id": "a3f9be13",
   "metadata": {},
   "outputs": [
    {
     "name": "stdout",
     "output_type": "stream",
     "text": [
      "As = [ 6.283  0.    -0.    ... -0.    -0.     0.   ]\n",
      "Bs = [ 0.    -2.    -1.    ... -0.071 -0.069 -0.067]\n"
     ]
    }
   ],
   "source": [
    "def f(t):\n",
    "    y=t\n",
    "    return y\n",
    "\n",
    "#Dominio de aproximación\n",
    "from numpy import pi\n",
    "T=2*pi\n",
    "#Número de coeficientes\n",
    "k=30\n",
    "#Coeficientes\n",
    "As,Bs=coeficientes_fourier(f,T,k)\n",
    "\n",
    "from numpy import array,set_printoptions\n",
    "set_printoptions(threshold=11,precision=3,suppress=True)\n",
    "print(f\"As = {array(As)}\")\n",
    "print(f\"Bs = {array(Bs)}\")"
   ]
  },
  {
   "cell_type": "markdown",
   "id": "29b33d0f",
   "metadata": {},
   "source": [
    "Gráfico de la recta y de las distintas componentes de la expansión:"
   ]
  },
  {
   "cell_type": "code",
   "execution_count": 6,
   "id": "3ef61e5d",
   "metadata": {},
   "outputs": [
    {
     "data": {
      "image/png": "[encoded data removed]",
      "text/plain": [
       "<Figure size 640x480 with 1 Axes>"
      ]
     },
     "metadata": {},
     "output_type": "display_data"
    }
   ],
   "source": [
    "#Valores de la variable independiente\n",
    "import matplotlib.pyplot as plt\n",
    "fig=plt.figure();\n",
    "ax=fig.gca();\n",
    "\n",
    "#Aproximaciones\n",
    "from numpy import linspace\n",
    "ts=linspace(0,T,200)\n",
    "k=1\n",
    "ax.plot(ts,serie_fourier(ts,As,Bs,T,k),label=f\"k = {k}\");\n",
    "k=5\n",
    "ax.plot(ts,serie_fourier(ts,As,Bs,T,k),label=f\"k = {k}\");\n",
    "k=10\n",
    "ax.plot(ts,serie_fourier(ts,As,Bs,T,k),label=f\"k = {k}\");\n",
    "#Gráfico de la función\n",
    "ts=linspace(0,T,30)\n",
    "ax.plot(ts,f(ts),'k+',label=\"Función\");\n",
    "\n",
    "#Decoración\n",
    "ax.legend();\n",
    "ax.set_xlabel(\"$t$\");\n",
    "ax.set_ylabel(\"$f(t)$\");"
   ]
  },
  {
   "cell_type": "markdown",
   "id": "7c0b9803",
   "metadata": {},
   "source": [
    "<hr/>"
   ]
  },
  {
   "cell_type": "markdown",
   "id": "79c3838e",
   "metadata": {},
   "source": [
    "Para explorar más cuadernos del libro vaya al [repositorio de en GitHub](https://github.com/seap-udea/pymcel/tree/main/ejemplos/cuadernos-libro)"
   ]
  }
 ],
 "metadata": {
  "kernelspec": {
   "display_name": "Python 3 (ipykernel)",
   "language": "python",
   "name": "python3"
  },
  "language_info": {
   "codemirror_mode": {
    "name": "ipython",
    "version": 3
   },
   "file_extension": ".py",
   "mimetype": "text/x-python",
   "name": "python",
   "nbconvert_exporter": "python",
   "pygments_lexer": "ipython3",
   "version": "3.10.12"
  }
 },
 "nbformat": 4,
 "nbformat_minor": 5
}
