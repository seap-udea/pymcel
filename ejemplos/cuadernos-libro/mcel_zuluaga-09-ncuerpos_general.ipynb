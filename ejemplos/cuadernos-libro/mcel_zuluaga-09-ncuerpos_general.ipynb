{
 "cells": [
  {
   "cell_type": "markdown",
   "id": "e8531c81",
   "metadata": {},
   "source": [
    "# Mecánica Celeste: teoría, algoritmos y problemas\n",
    "# Por Jorge I. Zuluaga"
   ]
  },
  {
   "cell_type": "markdown",
   "id": "19a85743",
   "metadata": {},
   "source": [
    "En estos cuadernos hemos compilado la mayoría de los códigos que vienen con el libro [**Mecánica Celeste: teoría, algoritmos y problemas**](https://www.libreriadelau.com/bw-mecanica-celeste-teoria-algoritmos-y-problemas-u-de-antioquia-fisica/p). En cada cuaderno encontrará códigos de secciones o capítulos enteros. Para explicaciones detalladas de lo que hacen los códigos refiérase a la sección o capítulo respectivo. Para mayor comodidad puede leer o ejecutar este cuaderno usando `Google Colab`.\n",
    "\n",
    "<a target=\"_blank\" href=\"https://colab.research.google.com/github/seap-udea/pymcel/blob/main/ejemplos/cuadernos-libro/mcel_zuluaga-ncuerpos_general.ipynb\">\n",
    "  <img src=\"https://colab.research.google.com/assets/colab-badge.svg\" alt=\"Open In Colab\"/>\n",
    "</a>"
   ]
  },
  {
   "cell_type": "markdown",
   "id": "074a98d3",
   "metadata": {},
   "source": [
    "## Algorítmos del Problema de los N cuerpos General"
   ]
  },
  {
   "cell_type": "markdown",
   "id": "03672f8a",
   "metadata": {},
   "source": [
    "### Instalación e importación"
   ]
  },
  {
   "cell_type": "markdown",
   "id": "5c222703",
   "metadata": {},
   "source": [
    "Si está usando este cuaderno en `Colab` debería instalar `pymcel` antes de comenzar: "
   ]
  },
  {
   "cell_type": "code",
   "execution_count": 16,
   "id": "7d05f6ac",
   "metadata": {},
   "outputs": [],
   "source": [
    "!pip install -Uq pymcel"
   ]
  },
  {
   "cell_type": "code",
   "execution_count": 1,
   "id": "fad91d6d",
   "metadata": {},
   "outputs": [],
   "source": [
    "# Este código se usa solamente para desarrollar estos cuadernos pero es inocuo en otros contextos\n",
    "%load_ext autoreload \n",
    "%autoreload 2"
   ]
  },
  {
   "cell_type": "markdown",
   "id": "4ecc4aa1",
   "metadata": {},
   "source": [
    "### Momentum angular en el problema de los N cuerpos "
   ]
  },
  {
   "cell_type": "markdown",
   "id": "22578c3d",
   "metadata": {},
   "source": [
    "Descarga los kernels de `SPICE`:"
   ]
  },
  {
   "cell_type": "code",
   "execution_count": 12,
   "id": "e9a64622",
   "metadata": {},
   "outputs": [
    {
     "name": "stdout",
     "output_type": "stream",
     "text": [
      "Paquete pymcel cargado. Versión: 0.6.0\n",
      "Descargando kernel 'de430.bsp' en 'pymcel/'...\n",
      "El kernel 'de430.bsp' ya fue descargado\n",
      "Descargando kernel 'de430_tech-comments.txt' en 'pymcel/'...\n",
      "El kernel 'de430_tech-comments.txt' ya fue descargado\n",
      "Descargando kernel 'latest_leapseconds.tls' en 'pymcel/'...\n",
      "El kernel 'latest_leapseconds.tls' ya fue descargado\n",
      "Descargando kernel 'naif0012.tls' en 'pymcel/'...\n",
      "El kernel 'naif0012.tls' ya fue descargado\n",
      "Descargando kernel 'earth_latest_high_prec.bpc' en 'pymcel/'...\n",
      "El kernel 'earth_latest_high_prec.bpc' ya fue descargado\n",
      "Descargando kernel 'earth_fixed.tf' en 'pymcel/'...\n",
      "El kernel 'earth_fixed.tf' ya fue descargado\n",
      "Descargando kernel 'gm_de431.tpc' en 'pymcel/'...\n",
      "El kernel 'gm_de431.tpc' ya fue descargado\n",
      "Descargando kernel 'pck00011.tpc' en 'pymcel/'...\n",
      "El kernel 'pck00011.tpc' ya fue descargado\n",
      "Descargando kernel 'de430.tpc' en 'pymcel/'...\n",
      "El kernel 'de430.tpc' ya fue descargado\n"
     ]
    }
   ],
   "source": [
    "import pymcel as pc\n",
    "pc.descarga_kernels()"
   ]
  },
  {
   "cell_type": "markdown",
   "id": "ed7f9ad0",
   "metadata": {},
   "source": [
    "Obtener posiciones y velocidades del Sol y de Júpiter para una época dada (et $= 0$, es decir `2000-01-01 12:00:00`)"
   ]
  },
  {
   "cell_type": "code",
   "execution_count": 13,
   "id": "ed65963e",
   "metadata": {},
   "outputs": [
    {
     "name": "stdout",
     "output_type": "stream",
     "text": [
      "Sol:\n",
      "\tmu = 132712440041.9394 km^3/s^2\n",
      "\tPosición = [-1067598.50226456  -418234.39327422    30837.61810502] km\n",
      "\tVelocidad = [ 0.00931257 -0.01282475 -0.00016333] km/s\n",
      "Jupiter:\n",
      "\tmu = 126712764.7999999 km^3/s^2\n",
      "\tPosición = [ 5.97499980e+08  4.39186501e+08 -1.51960586e+07] km\n",
      "\tVelocidad = [-7.90052522 11.14330827  0.13069904] km/s\n"
     ]
    }
   ],
   "source": [
    "import spiceypy as spy\n",
    "\n",
    "#Asumimos un tiempo cualquiera, en este caso t=J2000.0\n",
    "tef=0\n",
    "\n",
    "#Carga kernels con posiciones (bsp) y masas (tpc)\n",
    "spy.furnsh('pymcel/data/de430.bsp')\n",
    "spy.furnsh('pymcel/data/de430.tpc')\n",
    "\n",
    "#Parámetro gravitacional, posiciones y velocidades de los cuerpos\n",
    "musol=spy.bodvrd(\"SUN\",\"GM\",1)[1][0]\n",
    "sol,tluz=spy.spkezr(\"SUN\",tef,\n",
    "                    \"ECLIPJ2000\",\"None\",\"SSB\")\n",
    "rsol=sol[:3]\n",
    "vsol=sol[3:]\n",
    "mujupiter=spy.bodvrd(\"JUPITER_BARYCENTER\",\"GM\",1)[1][0]\n",
    "jupiter,tluz=spy.spkezr(\"JUPITER_BARYCENTER\",tef,\n",
    "                        \"ECLIPJ2000\",\"None\",\"SSB\")\n",
    "rjupiter=jupiter[:3]\n",
    "vjupiter=jupiter[3:]\n",
    "\n",
    "print(f\"Sol:\")\n",
    "print(f\"\\tmu = {musol} km^3/s^2\")\n",
    "print(f\"\\tPosición = {rsol} km\")\n",
    "print(f\"\\tVelocidad = {vsol} km/s\")\n",
    "print(f\"Jupiter:\")\n",
    "print(f\"\\tmu = {mujupiter} km^3/s^2\")\n",
    "print(f\"\\tPosición = {rjupiter} km\")\n",
    "print(f\"\\tVelocidad = {vjupiter} km/s\")"
   ]
  },
  {
   "cell_type": "markdown",
   "id": "85895250",
   "metadata": {},
   "source": [
    "Calculemos el momentum angular del sistema:"
   ]
  },
  {
   "cell_type": "code",
   "execution_count": 15,
   "id": "18d34418",
   "metadata": {},
   "outputs": [
    {
     "name": "stdout",
     "output_type": "stream",
     "text": [
      "L = [4.31661898e+35 7.99455257e+34 1.92754426e+37] kg m^2/s^2\n"
     ]
    }
   ],
   "source": [
    "#Constante de gravitación universal:\n",
    "G=6.67e-20 # km^3 / kg s^2\n",
    "\n",
    "#Momentum angular total\n",
    "from numpy import cross\n",
    "L=(musol/G)*cross(rsol,vsol)+(mujupiter/G)*cross(rjupiter,vjupiter)\n",
    "\n",
    "print(f\"L = {L} kg m^2/s^2\")"
   ]
  },
  {
   "cell_type": "markdown",
   "id": "39035c09",
   "metadata": {},
   "source": [
    "Calculemos ahora el ángulo que forma este vector respecto al plano de referencia (`ECLIPJ2000`):"
   ]
  },
  {
   "cell_type": "code",
   "execution_count": 16,
   "id": "314eadf3",
   "metadata": {},
   "outputs": [
    {
     "name": "stdout",
     "output_type": "stream",
     "text": [
      "i = 1.3046988768626038 grados\n",
      "  = 1:18:16\n"
     ]
    }
   ],
   "source": [
    "from numpy import arccos\n",
    "from numpy.linalg import norm\n",
    "\n",
    "i=arccos(L[2]/norm(L))\n",
    "\n",
    "from numpy import pi\n",
    "grados=i*180/pi\n",
    "minutos=60*(grados-int(grados))\n",
    "segundos=60*(minutos-int(minutos))\n",
    "print(f\"i = {grados} grados\")\n",
    "print(f\"  = {int(grados)}:{int(minutos)}:{int(segundos)}\")"
   ]
  },
  {
   "cell_type": "markdown",
   "id": "d188ae8b",
   "metadata": {},
   "source": [
    "### Energía en el problema de los N cuerpos"
   ]
  },
  {
   "cell_type": "markdown",
   "id": "4e5f9b4e",
   "metadata": {},
   "source": [
    "Energía del sistema Tierra-Luna:"
   ]
  },
  {
   "cell_type": "code",
   "execution_count": 18,
   "id": "e7c66e92",
   "metadata": {},
   "outputs": [
    {
     "name": "stdout",
     "output_type": "stream",
     "text": [
      "Energía potencial U: -7.369786503549795e+22 kg km^2/s^2\n",
      "Energía cinética K: 3.4021556025880696e+22 kg km^2/s^2\n",
      "Energía mecánica total E: -3.967630900961725e+22 kg km^2/s^2\n"
     ]
    }
   ],
   "source": [
    "import spiceypy as spy\n",
    "\n",
    "#Constante de gravitación universal \n",
    "G=6.67e-20 # km^3 / kg s^2\n",
    "\n",
    "#Asumimos un tiempo cualquiera, en este caso t=J2000.0\n",
    "tef=0\n",
    "\n",
    "#Carga kernels con posiciones (bsp) y masas (tpc)\n",
    "spy.furnsh('pymcel/data/de430.bsp')\n",
    "spy.furnsh('pymcel/data/de430.tpc')\n",
    "\n",
    "#Parámetro gravitacional, posiciones y velocidades\n",
    "mutierra=spy.bodvrd(\"EARTH\",\"GM\",1)[1][0]\n",
    "tierra,tluz=spy.spkezr(\"EARTH\",tef,\n",
    "                       \"ECLIPJ2000\",\"None\",\"EARTH_BARYCENTER\")\n",
    "rtierra=tierra[:3]\n",
    "vtierra=tierra[3:]\n",
    "\n",
    "muluna=spy.bodvrd(\"MOON\",\"GM\",1)[1][0]\n",
    "luna,tluz=spy.spkezr(\"MOON\",tef,\n",
    "                     \"ECLIPJ2000\",\"None\",\"EARTH_BARYCENTER\")\n",
    "rluna=luna[:3]\n",
    "vluna=luna[3:]\n",
    "\n",
    "#Masas\n",
    "mtierra=mutierra/G\n",
    "mluna=muluna/G\n",
    "\n",
    "#Energía potencial\n",
    "from numpy.linalg import norm\n",
    "U=-G*mluna*mtierra/norm(rtierra-rluna)\n",
    "\n",
    "#Energía cinética\n",
    "K=0.5*mutierra*norm(vtierra)**2+0.5*mluna*norm(vluna)**2\n",
    "\n",
    "#Energía mecánica total\n",
    "E=K+U\n",
    "\n",
    "print(f\"Energía potencial U: {U} kg km^2/s^2\")\n",
    "print(f\"Energía cinética K: {K} kg km^2/s^2\")\n",
    "print(f\"Energía mecánica total E: {E} kg km^2/s^2\")"
   ]
  },
  {
   "cell_type": "markdown",
   "id": "82b3a455",
   "metadata": {},
   "source": [
    "### El virial del Sistema Solar"
   ]
  },
  {
   "cell_type": "markdown",
   "id": "555beccf",
   "metadata": {},
   "source": [
    "Obtenemos las posiciones y velocidades del Sol, Júpiter y Saturno:"
   ]
  },
  {
   "cell_type": "code",
   "execution_count": 19,
   "id": "1f7545e4",
   "metadata": {},
   "outputs": [],
   "source": [
    "#Constante de gravitación universal \n",
    "G=6.67e-20 # km^3 / kg s^2\n",
    "\n",
    "#Carga kernels con posiciones (bsp) y masas (tpc)\n",
    "import spiceypy as spy\n",
    "spy.furnsh('pymcel/data/de430.bsp')\n",
    "spy.furnsh('pymcel/data/de430.tpc')\n",
    "\n",
    "#Número de valores de tiempo\n",
    "Nt=100\n",
    "\n",
    "#Lista de tiempos en los que calcularemos el virial:\n",
    "#Tomamos 60 años que es aprox. 2 veces el período de Saturno\n",
    "from numpy import linspace\n",
    "tefs=linspace(0.0,60*356.25*86400,Nt)\n",
    "\n",
    "#Masas de los cuerpos\n",
    "msol=spy.bodvrd(\"SUN\",\"GM\",1)[1][0]/G\n",
    "mjupiter=spy.bodvrd(\"JUPITER_BARYCENTER\",\"GM\",1)[1][0]/G\n",
    "msaturno=spy.bodvrd(\"SATURN_BARYCENTER\",\"GM\",1)[1][0]/G"
   ]
  },
  {
   "cell_type": "markdown",
   "id": "7d97767d",
   "metadata": {},
   "source": [
    "Vamos a calcular ahora la energía cinética, potencial y total para el sistema en el tiempo:"
   ]
  },
  {
   "cell_type": "code",
   "execution_count": 21,
   "id": "fb7a1eec",
   "metadata": {},
   "outputs": [
    {
     "name": "stdout",
     "output_type": "stream",
     "text": [
      "<K> = 1.883839013581885e+29 kg km^2/s^2\n",
      "<U>/2 = -1.8840677890439464e+29 kg km^2/s^2\n",
      "E = -1.8842965645060087e+29 kg km^2/s^2\n"
     ]
    }
   ],
   "source": [
    "from numpy.linalg import norm\n",
    "Ks=[]\n",
    "Us=[]\n",
    "Es=[]\n",
    "for tef in tefs:\n",
    "    #Posiciones, velocidades, energías cinéticas\n",
    "    sol,tluz=spy.spkezr(\"SUN\",tef,\n",
    "                        \"ECLIPJ2000\",\"None\",\"SSB\")\n",
    "    rsol=sol[:3]\n",
    "    vsol=sol[3:]\n",
    "    K_sol=0.5*msol*norm(vsol)**2\n",
    "    \n",
    "    jupiter,tluz=spy.spkezr(\"JUPITER_BARYCENTER\",tef,\n",
    "                            \"ECLIPJ2000\",\"None\",\"SSB\")\n",
    "    rjupiter=jupiter[:3]\n",
    "    vjupiter=jupiter[3:]\n",
    "    K_jup=0.5*mjupiter*norm(vjupiter)**2\n",
    "    \n",
    "    saturno,tluz=spy.spkezr(\"SATURN_BARYCENTER\",tef,\n",
    "                            \"ECLIPJ2000\",\"None\",\"SSB\")\n",
    "\n",
    "    rsaturno=saturno[:3]\n",
    "    vsaturno=saturno[3:]\n",
    "    K_sat=0.5*msaturno*norm(vsaturno)**2\n",
    "\n",
    "    #Distancias entre los cuerpos\n",
    "    r_jup_sol=norm(rjupiter-rsol)\n",
    "    r_sat_sol=norm(rsaturno-rsol)\n",
    "    r_jup_sat=norm(rjupiter-rsaturno)\n",
    "    \n",
    "    #Energia potencial\n",
    "    U_jup_sol=-G*mjupiter*msol/r_jup_sol\n",
    "    U_sat_sol=-G*msaturno*msol/r_sat_sol\n",
    "    U_jup_sat=-G*mjupiter*msaturno/r_jup_sat\n",
    "\n",
    "    #Energía cinética, potencial y mecánica\n",
    "    Ktot=K_sol+K_jup+K_sat\n",
    "    U=U_jup_sol+U_sat_sol+U_jup_sat\n",
    "    E=Ktot+U\n",
    "    \n",
    "    #Guarda valores en la lista\n",
    "    Ks+=[Ktot]\n",
    "    Us+=[abs(U)]\n",
    "    Es+=[abs(E)]\n",
    "\n",
    "from numpy import mean\n",
    "print(f\"<K> = {mean(Ks)} kg km^2/s^2\")\n",
    "print(f\"<U>/2 = -{mean(Us)/2} kg km^2/s^2\")\n",
    "print(f\"E = -{mean(Es)} kg km^2/s^2\")"
   ]
  },
  {
   "cell_type": "markdown",
   "id": "8ee5bad2",
   "metadata": {},
   "source": [
    "Una gráfica de las energías:"
   ]
  },
  {
   "cell_type": "code",
   "execution_count": 22,
   "id": "894bd8be",
   "metadata": {},
   "outputs": [
    {
     "data": {
      "image/png": "[encoded data removed]",
      "text/plain": [
       "<Figure size 640x480 with 1 Axes>"
      ]
     },
     "metadata": {},
     "output_type": "display_data"
    }
   ],
   "source": [
    "from numpy import max\n",
    "import matplotlib.pyplot as plt\n",
    "plt.plot(tefs,Ks,'k-',label=\"$K$\")\n",
    "plt.plot(tefs,Us,'b--',label=\"$|U|$\")\n",
    "plt.plot(tefs,Es,'r:',label=\"$|E|$\")\n",
    "\n",
    "plt.legend()\n",
    "plt.ylim(0,max(Us));\n",
    "plt.xlabel(\"$t_{ef}$ (segundos)\");\n",
    "plt.ylabel(\"$K,|U|,|E|$ (Joules)\");"
   ]
  },
  {
   "cell_type": "markdown",
   "id": "664f5ec5",
   "metadata": {},
   "source": [
    "### La masa de un cúmulo de galaxias"
   ]
  },
  {
   "cell_type": "markdown",
   "id": "88dc48f5",
   "metadata": {},
   "source": [
    "Datos para el cúmulo de Coma estimada a partir del teorema del virial:"
   ]
  },
  {
   "cell_type": "code",
   "execution_count": 25,
   "id": "fbadff23",
   "metadata": {},
   "outputs": [
    {
     "name": "stdout",
     "output_type": "stream",
     "text": [
      "Masa del virial del cúmulo de Coma:\n",
      "1.5412093953023487e+45 kg\n"
     ]
    }
   ],
   "source": [
    "#Constante gravitacional\n",
    "G=6.67e-20 # km^3 / kg s^2\n",
    "\n",
    "#Parsec y año-luz\n",
    "pc=3.26\n",
    "al=9.46e12 #km \n",
    "\n",
    "#Radio del viral\n",
    "Rvir=2e6*pc*al\n",
    "\n",
    "#Dispersión de velocidades\n",
    "v2=1000**2\n",
    "\n",
    "#Masa del virial del cúmulo\n",
    "Mvir=5*Rvir*v2/(3*G)\n",
    "\n",
    "print(f\"Masa del virial del cúmulo de Coma:\\n{Mvir} kg\")"
   ]
  },
  {
   "cell_type": "markdown",
   "id": "7c0b9803",
   "metadata": {},
   "source": [
    "<hr/>"
   ]
  },
  {
   "cell_type": "markdown",
   "id": "79c3838e",
   "metadata": {},
   "source": [
    "Para explorar más cuadernos del libro vaya al [repositorio de en GitHub](https://github.com/seap-udea/pymcel/tree/main/ejemplos/cuadernos-libro)"
   ]
  }
 ],
 "metadata": {
  "kernelspec": {
   "display_name": "Python 3 (ipykernel)",
   "language": "python",
   "name": "python3"
  },
  "language_info": {
   "codemirror_mode": {
    "name": "ipython",
    "version": 3
   },
   "file_extension": ".py",
   "mimetype": "text/x-python",
   "name": "python",
   "nbconvert_exporter": "python",
   "pygments_lexer": "ipython3",
   "version": "3.10.12"
  }
 },
 "nbformat": 4,
 "nbformat_minor": 5
}
