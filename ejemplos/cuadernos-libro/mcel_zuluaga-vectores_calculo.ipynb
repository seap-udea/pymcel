{
 "cells": [
  {
   "cell_type": "markdown",
   "id": "e8531c81",
   "metadata": {},
   "source": [
    "# Mecánica Celeste: teoría, algoritmos y problemas\n",
    "# Por Jorge I. Zuluaga"
   ]
  },
  {
   "cell_type": "markdown",
   "id": "19a85743",
   "metadata": {},
   "source": [
    "En estos cuadernos hemos compilado la mayoría de los códigos que vienen con el libro [**Mecánica Celeste: teoría, algoritmos y problemas**](https://www.libreriadelau.com/bw-mecanica-celeste-teoria-algoritmos-y-problemas-u-de-antioquia-fisica/p). En cada cuaderno encontrará códigos de secciones o capítulos enteros. Para explicaciones detalladas de lo que hacen los códigos refiérase a la sección o capítulo respectivo. Para mayor comodidad puede leer o ejecutar este cuaderno usando `Google Colab`.\n",
    "\n",
    "<a target=\"_blank\" href=\"https://colab.research.google.com/github/seap-udea/pymcel/blob/main/ejemplos/cuadernos-libro/mcel_zuluaga-vectores_calculo.ipynb\">\n",
    "  <img src=\"https://colab.research.google.com/assets/colab-badge.svg\" alt=\"Open In Colab\"/>\n",
    "</a>"
   ]
  },
  {
   "cell_type": "markdown",
   "id": "074a98d3",
   "metadata": {},
   "source": [
    "## Algorítmos de Vectores y Cálculo"
   ]
  },
  {
   "cell_type": "markdown",
   "id": "03672f8a",
   "metadata": {},
   "source": [
    "### Instalación e importación"
   ]
  },
  {
   "cell_type": "markdown",
   "id": "5c222703",
   "metadata": {},
   "source": [
    "Si está usando este cuaderno en `Colab` debería instalar `pymcel` antes de comenzar: "
   ]
  },
  {
   "cell_type": "code",
   "execution_count": 16,
   "id": "7d05f6ac",
   "metadata": {},
   "outputs": [],
   "source": [
    "!pip install -Uq pymcel"
   ]
  },
  {
   "cell_type": "code",
   "execution_count": 1,
   "id": "eb07b46b",
   "metadata": {},
   "outputs": [],
   "source": [
    "# Este código se usa solamente para desarrollar estos cuadernos pero es inocuo en otros contextos\n",
    "%load_ext autoreload \n",
    "%autoreload 2"
   ]
  },
  {
   "cell_type": "markdown",
   "id": "4ecc4aa1",
   "metadata": {},
   "source": [
    "### Conjuntos y tuplas"
   ]
  },
  {
   "cell_type": "markdown",
   "id": "22578c3d",
   "metadata": {},
   "source": [
    "Creación y manipulación básica de listas:"
   ]
  },
  {
   "cell_type": "code",
   "execution_count": 2,
   "id": "3d112626",
   "metadata": {},
   "outputs": [
    {
     "name": "stdout",
     "output_type": "stream",
     "text": [
      "X = [1, 0, 3, 0, -1, 0]\n"
     ]
    }
   ],
   "source": [
    "#Lista de componentes del vector posición\n",
    "r=[1,0,3]\n",
    "#Lista de componentes del vector velocidad\n",
    "v=[0,-1,0]\n",
    "#Lista de componentes del vector de estado\n",
    "X=r+v\n",
    "print(f\"X = {X}\")"
   ]
  },
  {
   "cell_type": "markdown",
   "id": "c6b0f5b4",
   "metadata": {},
   "source": [
    "Función sobre una lista:"
   ]
  },
  {
   "cell_type": "code",
   "execution_count": 3,
   "id": "72431a27",
   "metadata": {},
   "outputs": [
    {
     "name": "stdout",
     "output_type": "stream",
     "text": [
      "valores de f = [0.8414709848078965, 0.45464871341284085, 0.0470400026866224]\n"
     ]
    }
   ],
   "source": [
    "def f(x):\n",
    "    from math import sin\n",
    "    y=sin(x)/x\n",
    "    return y\n",
    "\n",
    "valores_de_x=[1.0,2.0,3.0]\n",
    "valores_de_f=[]\n",
    "for x in valores_de_x:\n",
    "    valores_de_f+=[f(x)]\n",
    "\n",
    "print(f\"valores de f = {valores_de_f}\")"
   ]
  },
  {
   "cell_type": "markdown",
   "id": "3da8c54b",
   "metadata": {},
   "source": [
    "### Vectores"
   ]
  },
  {
   "cell_type": "markdown",
   "id": "c97bc90c",
   "metadata": {},
   "source": [
    "Vectores de `numpy` y operaciones vectoriales:"
   ]
  },
  {
   "cell_type": "code",
   "execution_count": 4,
   "id": "accd5d86",
   "metadata": {},
   "outputs": [
    {
     "name": "stdout",
     "output_type": "stream",
     "text": [
      "AnguloAB = 31.948059431330062 grados\n"
     ]
    }
   ],
   "source": [
    "#Definimos los vectores\n",
    "from numpy import array\n",
    "A=array([1.0,0.0,2.0])\n",
    "B=array([0.0,1.0,3.0])\n",
    "\n",
    "#Calculamos el producto escalar y vectorial\n",
    "from numpy import dot\n",
    "ApuntoB=dot(A,B)\n",
    "\n",
    "#El ángulo entre los vectores\n",
    "from numpy import arccos\n",
    "from numpy.linalg import norm\n",
    "anguloAB=arccos(ApuntoB/(norm(A)*norm(B)))\n",
    "\n",
    "from numpy import pi\n",
    "print(f\"AnguloAB = {anguloAB*180/pi} grados\")"
   ]
  },
  {
   "cell_type": "markdown",
   "id": "a8b82134",
   "metadata": {},
   "source": [
    "Vectores usando `SPICE`:"
   ]
  },
  {
   "cell_type": "code",
   "execution_count": 5,
   "id": "5e40239e",
   "metadata": {},
   "outputs": [
    {
     "name": "stdout",
     "output_type": "stream",
     "text": [
      "A x (B x C) = [-0.  2. -4.]\n"
     ]
    }
   ],
   "source": [
    "from numpy import array\n",
    "from spiceypy import vdot,vcrss\n",
    "A=array([2.0,2.0,1.0])\n",
    "B=array([0.0,-1.0,0.0])\n",
    "C=array([0.0,0.0,2.0])\n",
    "AxBxC=vdot(A,B)*C-vdot(A,C)*B\n",
    "\n",
    "print(f\"A x (B x C) = {AxBxC}\")"
   ]
  },
  {
   "cell_type": "markdown",
   "id": "39e9e0e4",
   "metadata": {},
   "source": [
    "Propiedad cíclica de los vectores:"
   ]
  },
  {
   "cell_type": "code",
   "execution_count": 6,
   "id": "1ea9fde8",
   "metadata": {},
   "outputs": [
    {
     "name": "stdout",
     "output_type": "stream",
     "text": [
      "A.(BxC) = -4.0\n",
      "C.(AxB) = -4.0\n",
      "B.(CxA) = -4.0\n"
     ]
    }
   ],
   "source": [
    "from numpy import array\n",
    "from spiceypy import vnorm,vdot,vcrss\n",
    "A=array([2.0,2.0,1.0])\n",
    "B=array([0.0,-1.0,0.0])\n",
    "C=array([0.0,0.0,2.0])\n",
    "\n",
    "ABC=vdot(A,vcrss(B,C))\n",
    "CAB=vdot(C,vcrss(A,B))\n",
    "BCA=vdot(B,vcrss(C,A))\n",
    "\n",
    "print(f\"A.(BxC) = {ABC}\")\n",
    "print(f\"C.(AxB) = {CAB}\")\n",
    "print(f\"B.(CxA) = {BCA}\")"
   ]
  },
  {
   "cell_type": "markdown",
   "id": "f70a90fc",
   "metadata": {},
   "source": [
    "### Funciones"
   ]
  },
  {
   "cell_type": "markdown",
   "id": "32f66433",
   "metadata": {},
   "source": [
    "Creación de una función:"
   ]
  },
  {
   "cell_type": "code",
   "execution_count": 7,
   "id": "2ad0ad3a",
   "metadata": {},
   "outputs": [
    {
     "name": "stdout",
     "output_type": "stream",
     "text": [
      "U(1.0,2.0,0.0) con k = 1 y n = -1 (valores por defecto) = 0.4472135954999579\n",
      "U(1.0,2.0,0.0) con k = 6.67e-11 y n = -2 = 1.334e-11\n"
     ]
    }
   ],
   "source": [
    "def U(x,y,z,k=1,n=-1):\n",
    "    r=(x**2+y**2+z**2)**0.5\n",
    "    return k*r**n\n",
    "\n",
    "print(f\"U(1.0,2.0,0.0) con k = 1 y n = -1 (valores por defecto) = {U(1.0,2.0,0.0)}\")\n",
    "print(f\"U(1.0,2.0,0.0) con k = 6.67e-11 y n = -2 = {U(1.0,2.0,0.0,k=6.67e-11,n=-2)}\")"
   ]
  },
  {
   "cell_type": "markdown",
   "id": "70d5be7e",
   "metadata": {},
   "source": [
    "Código alternativo:"
   ]
  },
  {
   "cell_type": "code",
   "execution_count": 8,
   "id": "46a1708d",
   "metadata": {},
   "outputs": [
    {
     "data": {
      "text/plain": [
       "1.334e-11"
      ]
     },
     "execution_count": 8,
     "metadata": {},
     "output_type": "execute_result"
    }
   ],
   "source": [
    "def U(*variables,**opciones):\n",
    "    x,y,z=variables\n",
    "    r=(x**2+y**2+z**2)**0.5\n",
    "    return opciones[\"k\"]*r**opciones[\"n\"]\n",
    "\n",
    "var=1.0,2.0,0.0\n",
    "opc=dict(k=6.67e-11,n=-2)\n",
    "U(*var,**opc)"
   ]
  },
  {
   "cell_type": "markdown",
   "id": "f2ea4e1b",
   "metadata": {},
   "source": [
    "Funciones lambda:"
   ]
  },
  {
   "cell_type": "code",
   "execution_count": 9,
   "id": "00c66101",
   "metadata": {},
   "outputs": [
    {
     "name": "stdout",
     "output_type": "stream",
     "text": [
      "Ux(0.0) = 0.49999999999999994\n"
     ]
    }
   ],
   "source": [
    "def U(x,y,z,k=1,n=-1):\n",
    "    r=(x**2+y**2+z**2)**0.5\n",
    "    return k*r**n\n",
    "\n",
    "y=1.0\n",
    "z=1.0\n",
    "k=1\n",
    "n=-2\n",
    "U_x=lambda x:U(x,y,z,k,n)\n",
    "\n",
    "print(f\"Ux(0.0) = {U_x(0.0)}\")"
   ]
  },
  {
   "cell_type": "markdown",
   "id": "617c510e",
   "metadata": {},
   "source": [
    "### Derivada"
   ]
  },
  {
   "cell_type": "markdown",
   "id": "75a11b8d",
   "metadata": {},
   "source": [
    "Uso de la función `derivative`: "
   ]
  },
  {
   "cell_type": "code",
   "execution_count": 10,
   "id": "74d37889",
   "metadata": {},
   "outputs": [
    {
     "name": "stdout",
     "output_type": "stream",
     "text": [
      "dfdt : Numérica = -0.4353938258295498, Exacta = -0.43539777497999166\n",
      "d2fdt2 : Numérica = -0.019250938436687903, Exacta = -0.01925093843284925\n"
     ]
    },
    {
     "name": "stderr",
     "output_type": "stream",
     "text": [
      "/tmp/ipykernel_52109/3851137043.py:11: DeprecationWarning: scipy.misc.derivative is deprecated in SciPy v1.10.0; and will be completely removed in SciPy v1.12.0. You may consider using findiff: https://github.com/maroba/findiff or numdifftools: https://github.com/pbrod/numdifftools\n",
      "  dfdt=derivative(f,t,dx=1e-2,n=1,order=3)\n",
      "/tmp/ipykernel_52109/3851137043.py:14: DeprecationWarning: scipy.misc.derivative is deprecated in SciPy v1.10.0; and will be completely removed in SciPy v1.12.0. You may consider using findiff: https://github.com/maroba/findiff or numdifftools: https://github.com/pbrod/numdifftools\n",
      "  d2fdt2=derivative(f,t,dx=1e-2,n=2,order=5)\n"
     ]
    }
   ],
   "source": [
    "def f(t):\n",
    "    from math import sin\n",
    "    return sin(t)/t\n",
    "\n",
    "#Valor de la variable independiente donde queremos la derivada\n",
    "t=2.0\n",
    "\n",
    "from scipy.misc import derivative\n",
    "\n",
    "#Primera derivada usando un dx=0.01 y 3 puntos\n",
    "dfdt=derivative(f,t,dx=1e-2,n=1,order=3)\n",
    "\n",
    "#Segunda derivada en t\n",
    "d2fdt2=derivative(f,t,dx=1e-2,n=2,order=5)\n",
    "\n",
    "from math import sin,cos\n",
    "print(f\"dfdt : Numérica = {dfdt}, Exacta = {cos(t)/t-sin(t)/t**2}\")\n",
    "print(f\"d2fdt2 : Numérica = {d2fdt2}, Exacta = {-sin(t)/t-cos(t)/t**2-cos(t)/t**2+2*sin(t)/t**3}\")"
   ]
  },
  {
   "cell_type": "markdown",
   "id": "6587a638",
   "metadata": {},
   "source": [
    "Derivada parcial:"
   ]
  },
  {
   "cell_type": "code",
   "execution_count": 11,
   "id": "2a2513dd",
   "metadata": {},
   "outputs": [
    {
     "name": "stdout",
     "output_type": "stream",
     "text": [
      "dfdx: Numérica = 1.0061803563982654, Exacta = 1.006739536350187\n"
     ]
    },
    {
     "name": "stderr",
     "output_type": "stream",
     "text": [
      "/tmp/ipykernel_52109/3968733900.py:7: DeprecationWarning: scipy.misc.derivative is deprecated in SciPy v1.10.0; and will be completely removed in SciPy v1.12.0. You may consider using findiff: https://github.com/maroba/findiff or numdifftools: https://github.com/pbrod/numdifftools\n",
      "  dfdx=derivative(f_solo_x,x,**opciones)\n"
     ]
    }
   ],
   "source": [
    "def f(x,y,z):\n",
    "    from math import sin\n",
    "    return sin(x*y*z)/(x*y*z)\n",
    "\n",
    "def partial_derivative_x(f,x,y,z,**opciones):\n",
    "    f_solo_x=lambda x:f(x,y,z)\n",
    "    dfdx=derivative(f_solo_x,x,**opciones)\n",
    "    return dfdx\n",
    "\n",
    "x=1.0\n",
    "y=2.0\n",
    "z=3.0\n",
    "dfdx=partial_derivative_x(f,x,y,z,dx=0.01)\n",
    "\n",
    "print(f\"dfdx: Numérica = {dfdx}, Exacta = {cos(x*y*z)/x-sin(x*y*z)/(x**2*y*z)}\")"
   ]
  },
  {
   "cell_type": "markdown",
   "id": "883119ba",
   "metadata": {},
   "source": [
    "## Integral"
   ]
  },
  {
   "cell_type": "markdown",
   "id": "0c25ce13",
   "metadata": {},
   "source": [
    "Integral numérica por caudraturas:"
   ]
  },
  {
   "cell_type": "code",
   "execution_count": 12,
   "id": "2fdfd42c",
   "metadata": {},
   "outputs": [
    {
     "name": "stdout",
     "output_type": "stream",
     "text": [
      "Integral: Numérica = (-1.2, 1.3322676295501878e-14), Exacta = -1.2\n"
     ]
    }
   ],
   "source": [
    "#El integrando debe definirse como una rutina\n",
    "def F(x,k=1):\n",
    "    return -k*x\n",
    "\n",
    "from scipy.integrate import quad\n",
    "k=0.1\n",
    "x0=1.0\n",
    "x1=5.0\n",
    "integral=quad(F,x0,x1,args=(k,))\n",
    "\n",
    "print(f\"Integral: Numérica = {integral}, Exacta = {-0.5*(k*x1**2-k**x0**2)}\")"
   ]
  },
  {
   "cell_type": "markdown",
   "id": "30e87fd7",
   "metadata": {},
   "source": [
    "## Ecuaciones diferenciales"
   ]
  },
  {
   "cell_type": "markdown",
   "id": "777fc0eb",
   "metadata": {},
   "source": [
    "Solución a la ecuación diferencial del oscilador armónico simple:"
   ]
  },
  {
   "cell_type": "code",
   "execution_count": 16,
   "id": "e0b04519",
   "metadata": {},
   "outputs": [
    {
     "name": "stdout",
     "output_type": "stream",
     "text": [
      "Solución, Ys =\n",
      "[[ 1.          0.        ]\n",
      " [ 0.33918602 -1.15214115]\n",
      " [-0.76990562 -0.78158038]\n",
      " [-0.86146852  0.6219388 ]\n",
      " [ 0.18550948  1.20348632]\n",
      " [ 0.987313    0.1944726 ]]\n"
     ]
    }
   ],
   "source": [
    "def ode_simple(Y,t,k=1):\n",
    "    f=[0,0]\n",
    "    f[0]=Y[1]\n",
    "    f[1]=-k*Y[0]\n",
    "    return f\n",
    "\n",
    "from numpy import array,linspace\n",
    "k=1.5\n",
    "Yos=array([1.0,0.0])\n",
    "ts=array([0.0,1.0,2.0,3.0,4.0,5.0])\n",
    "from scipy.integrate import odeint\n",
    "Ys=odeint(ode_simple,Yos,ts,args=(k,))\n",
    "\n",
    "print(f\"Solución, Ys =\\n{Ys}\")"
   ]
  },
  {
   "cell_type": "markdown",
   "id": "435cc2d8",
   "metadata": {},
   "source": [
    "Gráfico de la solución:"
   ]
  },
  {
   "cell_type": "code",
   "execution_count": 17,
   "id": "cafdd02b",
   "metadata": {},
   "outputs": [
    {
     "data": {
      "image/png": "[encoded data removed]",
      "text/plain": [
       "<Figure size 640x480 with 1 Axes>"
      ]
     },
     "metadata": {},
     "output_type": "display_data"
    }
   ],
   "source": [
    "import matplotlib.pyplot as plt\n",
    "\n",
    "#Extraemos los valores de la función F\n",
    "Fs=Ys[:,0]\n",
    "\n",
    "plt.figure();\n",
    "plt.plot(ts,Fs,marker='o',linewidth=0);\n",
    "\n",
    "#--hide--\n",
    "plt.xlabel(\"$t$\");\n",
    "plt.ylabel(\"$F(t)$\");"
   ]
  },
  {
   "cell_type": "markdown",
   "id": "0958fe14",
   "metadata": {},
   "source": [
    "Alternativa usando `solve_ivp`:"
   ]
  },
  {
   "cell_type": "code",
   "execution_count": 21,
   "id": "3097ddb6",
   "metadata": {},
   "outputs": [
    {
     "data": {
      "image/png": "[encoded data removed]",
      "text/plain": [
       "<Figure size 640x480 with 1 Axes>"
      ]
     },
     "metadata": {},
     "output_type": "display_data"
    }
   ],
   "source": [
    "from scipy.integrate import solve_ivp\n",
    "solucion=solve_ivp(fun=lambda t,Y:ode_simple(Y,t,k),t_span=[ts[0],ts[-1]],y0=Yos,t_eval=ts)\n",
    "\n",
    "#Extraemos los valores de la función F\n",
    "Fs=solucion.y[0]\n",
    "\n",
    "plt.figure();\n",
    "plt.plot(ts,Fs,marker='o',linewidth=0);\n",
    "\n",
    "#--hide--\n",
    "plt.xlabel(\"$t$\");\n",
    "plt.ylabel(\"$F(t)$\");"
   ]
  },
  {
   "cell_type": "markdown",
   "id": "7c0b9803",
   "metadata": {},
   "source": [
    "<hr/>"
   ]
  },
  {
   "cell_type": "markdown",
   "id": "79c3838e",
   "metadata": {},
   "source": [
    "Para explorar más cuadernos del libro vaya al [repositorio de en GitHub](https://github.com/seap-udea/pymcel/tree/main/ejemplos/cuadernos-libro)"
   ]
  }
 ],
 "metadata": {
  "kernelspec": {
   "display_name": "Python 3 (ipykernel)",
   "language": "python",
   "name": "python3"
  },
  "language_info": {
   "codemirror_mode": {
    "name": "ipython",
    "version": 3
   },
   "file_extension": ".py",
   "mimetype": "text/x-python",
   "name": "python",
   "nbconvert_exporter": "python",
   "pygments_lexer": "ipython3",
   "version": "3.10.12"
  }
 },
 "nbformat": 4,
 "nbformat_minor": 5
}
