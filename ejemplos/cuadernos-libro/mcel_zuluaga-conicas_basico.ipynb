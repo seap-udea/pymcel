{
 "cells": [
  {
   "cell_type": "markdown",
   "id": "e8531c81",
   "metadata": {},
   "source": [
    "# Mecánica Celeste: teoría, algoritmos y problemas\n",
    "# Por Jorge I. Zuluaga"
   ]
  },
  {
   "cell_type": "markdown",
   "id": "19a85743",
   "metadata": {},
   "source": [
    "En estos cuadernos hemos compilado la mayoría de los códigos que vienen con el libro [**Mecánica Celeste: teoría, algoritmos y problemas**](https://www.libreriadelau.com/bw-mecanica-celeste-teoria-algoritmos-y-problemas-u-de-antioquia-fisica/p). En cada cuaderno encontrará códigos de secciones o capítulos enteros. Para explicaciones detalladas de lo que hacen los códigos refiérase a la sección o capítulo respectivo. Para mayor comodidad puede leer o ejecutar este cuaderno usando `Google Colab`.\n",
    "\n",
    "<a target=\"_blank\" href=\"https://colab.research.google.com/github/seap-udea/pymcel/blob/main/ejemplos/cuadernos-libro/mcel_zuluaga-conicas_basico.ipynb\">\n",
    "  <img src=\"https://colab.research.google.com/assets/colab-badge.svg\" alt=\"Open In Colab\"/>\n",
    "</a>"
   ]
  },
  {
   "cell_type": "markdown",
   "id": "074a98d3",
   "metadata": {},
   "source": [
    "## Algorítmos de Cónicas Básico"
   ]
  },
  {
   "cell_type": "markdown",
   "id": "03672f8a",
   "metadata": {},
   "source": [
    "### Instalación e importación"
   ]
  },
  {
   "cell_type": "markdown",
   "id": "5c222703",
   "metadata": {},
   "source": [
    "Si está usando este cuaderno en `Colab` debería instalar `pymcel` antes de comenzar: "
   ]
  },
  {
   "cell_type": "code",
   "execution_count": 16,
   "id": "7d05f6ac",
   "metadata": {},
   "outputs": [],
   "source": [
    "!pip install -Uq pymcel"
   ]
  },
  {
   "cell_type": "code",
   "execution_count": 1,
   "id": "eb07b46b",
   "metadata": {},
   "outputs": [],
   "source": [
    "# Este código se usa solamente para desarrollar estos cuadernos pero es inocuo en otros contextos\n",
    "%load_ext autoreload \n",
    "%autoreload 2"
   ]
  },
  {
   "cell_type": "markdown",
   "id": "4ecc4aa1",
   "metadata": {},
   "source": [
    "### Cónicas de Apolonio"
   ]
  },
  {
   "cell_type": "markdown",
   "id": "22578c3d",
   "metadata": {},
   "source": [
    "Un interactivo de la cónica de Apolonio:"
   ]
  },
  {
   "cell_type": "code",
   "execution_count": 21,
   "id": "3d112626",
   "metadata": {},
   "outputs": [
    {
     "data": {
      "application/vnd.jupyter.widget-view+json": {
       "model_id": "45eb9516ca2842f58d5996b511978036",
       "version_major": 2,
       "version_minor": 0
      },
      "text/plain": [
       "interactive(children=(FloatSlider(value=-0.5, description='eta', max=2.0, min=-2.0), Output()), _dom_classes=(…"
      ]
     },
     "metadata": {},
     "output_type": "display_data"
    }
   ],
   "source": [
    "from ipywidgets import interact\n",
    "\n",
    "@interact(eta=(-2,2,0.1))\n",
    "def conicas_apolonio(eta=-0.5):\n",
    "\n",
    "    #Escala\n",
    "    L=10.0\n",
    "    #Forma\n",
    "    eta=float(eta)\n",
    "    \n",
    "    #Máximo valor de x\n",
    "    xamax=L/abs(eta) if abs(eta)>0 else L\n",
    "    \n",
    "    #Valores de x en los que graficaremos\n",
    "    from numpy import sqrt,linspace\n",
    "    xas=linspace(0,xamax,100)\n",
    "\n",
    "    #Ecuaciones de las cónicas referidas al apside\n",
    "    from numpy import append\n",
    "    yas_par=sqrt(L*xas)\n",
    "    yas=sqrt(L*xas+float(eta)*xas**2)\n",
    "\n",
    "    #Gráfica\n",
    "    import matplotlib.pyplot as plt\n",
    "    fig=plt.figure(figsize=(6,6))\n",
    "    ax=fig.gca()\n",
    "\n",
    "    ax.plot(xas,yas_par,'k--')\n",
    "    ax.plot(xas,-yas_par,'k--')\n",
    "    ax.plot(xas,yas,'b')\n",
    "    ax.plot(xas,-yas,'b')\n",
    "\n",
    "    #Decoración\n",
    "    ax.grid()\n",
    "    ax.set_title(f\"Cónica con $L = {L}$, $\\eta={eta}$\")\n",
    "    \n",
    "    #Ejes proporcionales\n",
    "    ax.axis('equal')\n",
    "\n",
    "    plt.show()"
   ]
  },
  {
   "cell_type": "markdown",
   "id": "bc16a3d5",
   "metadata": {},
   "source": [
    "### La elipse"
   ]
  },
  {
   "cell_type": "markdown",
   "id": "eb04cb0a",
   "metadata": {},
   "source": [
    "Un interactivo de la elipse y sus propiedades:"
   ]
  },
  {
   "cell_type": "code",
   "execution_count": 25,
   "id": "19e86628",
   "metadata": {},
   "outputs": [
    {
     "data": {
      "application/vnd.jupyter.widget-view+json": {
       "model_id": "3a79e38755314026a2e2ecd3e4fef94c",
       "version_major": 2,
       "version_minor": 0
      },
      "text/plain": [
       "interactive(children=(FloatSlider(value=0.5, description='e', max=1.0, min=0.001), Output()), _dom_classes=('w…"
      ]
     },
     "metadata": {},
     "output_type": "display_data"
    }
   ],
   "source": [
    "from ipywidgets import interact\n",
    "\n",
    "@interact(e=(1e-3,1,0.1))\n",
    "def elipse_centro(e=0.5):\n",
    "\n",
    "    #Semieje mayor\n",
    "    a=10.0\n",
    "\n",
    "    #Forma\n",
    "    e=float(e)\n",
    "    \n",
    "    #Semieje menor\n",
    "    from numpy import sqrt\n",
    "    b=a*sqrt(1-e**2)\n",
    "    \n",
    "    #Distancia foco-centro\n",
    "    c=a*e\n",
    "    \n",
    "    #Máximo valor de x\n",
    "    xcmax=a\n",
    "    \n",
    "    #Valores de x en los que graficaremos\n",
    "    from numpy import linspace\n",
    "    xcs=linspace(-a,a,100)\n",
    "\n",
    "    #Ecuaciones de las cónicas referidas al apside\n",
    "    from numpy import append\n",
    "    ycs_cir=a*sqrt(1-xcs**2/a**2)\n",
    "    ycs=b*sqrt(1-xcs**2/a**2)\n",
    "\n",
    "    #Gráfica\n",
    "    import matplotlib.pyplot as plt\n",
    "    fig=plt.figure(figsize=(6,6))\n",
    "    ax=fig.gca()\n",
    "\n",
    "    ax.plot(xcs,ycs_cir,'k--')\n",
    "    ax.plot(xcs,-ycs_cir,'k--')\n",
    "    ax.plot(xcs,ycs,'r')\n",
    "    ax.plot(xcs,-ycs,'r')\n",
    "    \n",
    "    #Graficar la posición del foco y el centro\n",
    "    ax.plot([-c],[0],'bx',markersize=10)\n",
    "    ax.plot([0],[0],'ko',markersize=5)\n",
    "\n",
    "    #Decoración\n",
    "    ax.grid()\n",
    "    ax.set_title(f\"Elipse con $a = {a}$, $e={e}$\")\n",
    "    \n",
    "    #Fijamos la misma escala en los ejes\n",
    "    ax.axis('equal')\n",
    "\n",
    "    plt.show()"
   ]
  },
  {
   "cell_type": "markdown",
   "id": "ae442ae6",
   "metadata": {},
   "source": [
    "### La hipérbola"
   ]
  },
  {
   "cell_type": "code",
   "execution_count": 26,
   "id": "350d07e8",
   "metadata": {},
   "outputs": [
    {
     "data": {
      "application/vnd.jupyter.widget-view+json": {
       "model_id": "78446bf0eeb7488d9f962c6eeac00dbf",
       "version_major": 2,
       "version_minor": 0
      },
      "text/plain": [
       "interactive(children=(FloatSlider(value=1.5, description='e', max=3.0, min=1.0), Output()), _dom_classes=('wid…"
      ]
     },
     "metadata": {},
     "output_type": "display_data"
    }
   ],
   "source": [
    "from ipywidgets import interact\n",
    "\n",
    "@interact(e=(1,3,0.1))\n",
    "def hiperbola_centro(e=1.5):\n",
    "\n",
    "    #Semieje mayor\n",
    "    a=-10.0\n",
    "\n",
    "    #Forma\n",
    "    e=float(e)\n",
    "    \n",
    "    #Semieje menor\n",
    "    from numpy import sqrt\n",
    "    beta=abs(a)*sqrt(e**2-1)\n",
    "    \n",
    "    #Semilatus rectum\n",
    "    p=a*(1-e**2)\n",
    "    \n",
    "    #Posición del foco\n",
    "    q=p/(1+e)\n",
    "    F=abs(a)+q\n",
    "    \n",
    "    #Máximo valor de x\n",
    "    xcmax=3*abs(a)\n",
    "    \n",
    "    #Valores de x en los que graficaremos\n",
    "    from numpy import linspace\n",
    "    xcs=linspace(abs(a),xcmax,100)\n",
    "\n",
    "    #Ecuaciones de las cónicas referidas al apside\n",
    "    from numpy import append\n",
    "    ycs=beta*sqrt(xcs**2/a**2-1)\n",
    "\n",
    "    #Ecuación de las asintotas\n",
    "    xas=linspace(0,xcmax,100)\n",
    "    ycs_asi=beta*xas/abs(a)\n",
    "    \n",
    "    #Gráfica\n",
    "    import matplotlib.pyplot as plt\n",
    "    fig=plt.figure(figsize=(6,6))\n",
    "    ax=fig.gca()\n",
    "\n",
    "    ax.plot(xas,ycs_asi,'k--')\n",
    "    ax.plot(xas,-ycs_asi,'k--')\n",
    "    ax.plot(xcs,ycs,'r')\n",
    "    ax.plot(xcs,-ycs,'r')\n",
    "    \n",
    "    #Graficar la posición del foco y el vértice\n",
    "    ax.plot([F],[0],'bx',markersize=10)\n",
    "    ax.plot([0],[0],'ko',markersize=5)\n",
    "\n",
    "\n",
    "    #Decoración\n",
    "    ax.grid()\n",
    "    ax.set_title(f\"Hipérbola con $a = {a}$, $e={e}$\")\n",
    "    \n",
    "    #Fijamos la misma escala en los ejes\n",
    "    ax.axis('equal')   \n",
    "    plt.show()"
   ]
  },
  {
   "cell_type": "markdown",
   "id": "0d00d858",
   "metadata": {},
   "source": [
    "### Rotación de las cónicas en el plano"
   ]
  },
  {
   "cell_type": "markdown",
   "id": "9d4dd1c4",
   "metadata": {},
   "source": [
    "Rutina de cálculo de la matriz de rotación:"
   ]
  },
  {
   "cell_type": "code",
   "execution_count": 27,
   "id": "b97ed401",
   "metadata": {},
   "outputs": [
    {
     "name": "stdout",
     "output_type": "stream",
     "text": [
      "Rz(30 grados) = \n",
      "[[ 0.89100652  0.         -0.4539905 ]\n",
      " [ 0.          1.          0.        ]\n",
      " [ 0.4539905   0.          0.89100652]]\n"
     ]
    }
   ],
   "source": [
    "from spiceypy import rotate\n",
    "from numpy import pi\n",
    "Rz=rotate(27*pi/180,2)\n",
    "\n",
    "print(f\"Rz(30 grados) = \\n{Rz}\")"
   ]
  },
  {
   "cell_type": "markdown",
   "id": "7615ea2e",
   "metadata": {},
   "source": [
    "Una rutina para rotar puntos:"
   ]
  },
  {
   "cell_type": "code",
   "execution_count": 33,
   "id": "7cd794b2",
   "metadata": {},
   "outputs": [],
   "source": [
    "def rota_puntos(R,x,y,z):\n",
    "    from spiceypy import mxv\n",
    "    from numpy import zeros_like\n",
    "    N=len(x)\n",
    "    xp=zeros_like(x)\n",
    "    yp=zeros_like(y)\n",
    "    zp=zeros_like(z)\n",
    "    for i in range(N):\n",
    "        xp[i],yp[i],zp[i]=mxv(R,[x[i],y[i],z[i]])\n",
    "    return xp,yp,zp"
   ]
  },
  {
   "cell_type": "markdown",
   "id": "417cc5ab",
   "metadata": {},
   "source": [
    "Una cónica rotada:"
   ]
  },
  {
   "cell_type": "code",
   "execution_count": 40,
   "id": "6c546bef",
   "metadata": {},
   "outputs": [
    {
     "data": {
      "image/png": "[encoded data removed]",
      "text/plain": [
       "<Figure size 640x480 with 1 Axes>"
      ]
     },
     "metadata": {},
     "output_type": "display_data"
    }
   ],
   "source": [
    "#Parámetros de la cónica\n",
    "p=10.0\n",
    "e=0.8\n",
    "\n",
    "#Parametro eta\n",
    "eta=e**2-1\n",
    "\n",
    "#Conjunto de valores de x de la cónica\n",
    "from numpy import linspace\n",
    "if e==1:\n",
    "    a=p\n",
    "else:\n",
    "    a=p/(1-e**2)\n",
    "\n",
    "#Rango de valores de x\n",
    "xs=linspace(0,2*abs(a),100)\n",
    "\n",
    "#Ecuación de la cónica\n",
    "from numpy import sqrt\n",
    "ys_sup=sqrt(2*p*xs+eta*xs**2)\n",
    "ys_inf=-sqrt(2*p*xs+eta*xs**2)\n",
    "\n",
    "#Juntamos las dos ramas\n",
    "from numpy import append,zeros_like\n",
    "xs=append(xs[::-1],xs)\n",
    "ys=append(ys_sup[::-1],ys_inf)\n",
    "zs=zeros_like(xs)\n",
    "\n",
    "#Parámetros de la traslación\n",
    "tx=15.0\n",
    "ty=-10.0\n",
    "\n",
    "#Coordenadas trasladadas\n",
    "xs=xs-tx\n",
    "ys=ys-ty\n",
    "\n",
    "# Rotamos los puntos\n",
    "from spiceypy import rotate\n",
    "from numpy import pi\n",
    "teta=pi/6\n",
    "Rz=rotate(teta,3)\n",
    "xps,yps,zps=rota_puntos(Rz,xs,ys,zs)\n",
    "\n",
    "#Graficamos\n",
    "import matplotlib.pyplot as plt\n",
    "fig=plt.figure()\n",
    "ax=fig.gca()\n",
    "ax.plot(xps,yps,'b-')\n",
    "\n",
    "ax.axis('equal')\n",
    "ax.grid()"
   ]
  },
  {
   "cell_type": "markdown",
   "id": "8f6a7513",
   "metadata": {},
   "source": [
    "Calculando los coeficientes del polinomio general de la cónica:"
   ]
  },
  {
   "cell_type": "code",
   "execution_count": 41,
   "id": "103fed1a",
   "metadata": {},
   "outputs": [
    {
     "name": "stdout",
     "output_type": "stream",
     "text": [
      "A = 0.5199999999999998\n",
      "B = 0.5542562584220408\n",
      "C = 0.84\n",
      "D = -17.967433714816835\n",
      "E = -12.720508075688773\n",
      "F = -119.00000000000003\n",
      "Ecuación: (0.52)x^2+(0.55)xy+(0.84)y^2+(-18)x+(-13)y+(-119.0)=0\n"
     ]
    }
   ],
   "source": [
    "from numpy import sin,cos\n",
    "A=1-e**2*cos(teta)**2\n",
    "B=e**2*sin(2*teta)\n",
    "C=1-e**2*sin(teta)**2\n",
    "D=2*ty*sin(teta)-2*p*cos(teta)+2*tx*cos(teta)*(1-e**2)\n",
    "E=2*ty*cos(teta)+2*p*sin(teta)-2*tx*sin(teta)*(1-e**2)\n",
    "F=tx**2*(1-e**2)-2*p*tx+ty**2\n",
    "\n",
    "print(f\"A = {A}\")\n",
    "print(f\"B = {B}\")\n",
    "print(f\"C = {C}\")\n",
    "print(f\"D = {D}\")\n",
    "print(f\"E = {E}\")\n",
    "print(f\"F = {F}\")\n",
    "print(f\"Ecuación: ({A:.2g})x^2+({B:.2g})xy+({C:.2g})y^2+({D:.2g})x+({E:.2g})y+({F:.1f})=0\")"
   ]
  },
  {
   "cell_type": "markdown",
   "id": "e2b99423",
   "metadata": {},
   "source": [
    "Polinomio de segundo grado:"
   ]
  },
  {
   "cell_type": "code",
   "execution_count": 42,
   "id": "852c3306",
   "metadata": {},
   "outputs": [],
   "source": [
    "def polinomio_segundo_grado(coeficientes,x,y):\n",
    "    A,B,C,D,E,F=coeficientes\n",
    "    P=A*x**2+B*x*y+C*y**2+D*x+E*y+F\n",
    "    return P"
   ]
  },
  {
   "cell_type": "markdown",
   "id": "4e465dea",
   "metadata": {},
   "source": [
    "Verificación de los coeficientes calculados:"
   ]
  },
  {
   "cell_type": "code",
   "execution_count": 43,
   "id": "3efbabf5",
   "metadata": {},
   "outputs": [
    {
     "name": "stdout",
     "output_type": "stream",
     "text": [
      "P(xps,yps):\n",
      "[ 2.84217094e-14 -1.13686838e-13 -1.13686838e-13 -7.10542736e-14\n",
      " -5.68434189e-14]...\n"
     ]
    }
   ],
   "source": [
    "coeficientes=A,B,C,D,E,F\n",
    "Pxpsyps=polinomio_segundo_grado(coeficientes,xps,yps)\n",
    "\n",
    "print(f\"P(xps,yps):\\n{Pxpsyps[:5]}...\")"
   ]
  },
  {
   "cell_type": "markdown",
   "id": "03242f3d",
   "metadata": {},
   "source": [
    "Otra verificación:"
   ]
  },
  {
   "cell_type": "code",
   "execution_count": 44,
   "id": "af68478f",
   "metadata": {},
   "outputs": [
    {
     "name": "stdout",
     "output_type": "stream",
     "text": [
      "Sum |P(xps,yps)| = 1.1738165994756855e-11\n"
     ]
    }
   ],
   "source": [
    "Psum=sum(abs(Pxpsyps))\n",
    "\n",
    "print(f\"Sum |P(xps,yps)| = {Psum}\")"
   ]
  },
  {
   "cell_type": "markdown",
   "id": "8f7c901a",
   "metadata": {},
   "source": [
    "Verificación del cálculo del ángulo:"
   ]
  },
  {
   "cell_type": "code",
   "execution_count": 45,
   "id": "a12f0dc7",
   "metadata": {},
   "outputs": [
    {
     "name": "stdout",
     "output_type": "stream",
     "text": [
      "eta original = -0.36, eta numérico = -0.36\n",
      "teta original = 30, teta numérico = 30\n",
      "ty original = -10, ty numérico = -10\n"
     ]
    }
   ],
   "source": [
    "#Parámetro de forma\n",
    "eta_num=1-(A+C)\n",
    "\n",
    "#Ángulo\n",
    "from numpy import arctan,sin,cos\n",
    "teta_num=0.5*arctan(B/(C-A))\n",
    "\n",
    "#Desplazamiento vertical\n",
    "ty_num=(D*sin(teta_num)+E*cos(teta_num))/2\n",
    "\n",
    "from numpy import pi\n",
    "print(f\"eta original = {eta:g}, eta numérico = {eta_num:g}\")\n",
    "print(f\"teta original = {teta*180/pi:g}, teta numérico = {teta_num*180/pi:g}\")\n",
    "print(f\"ty original = {ty:g}, ty numérico = {ty_num:g}\")"
   ]
  },
  {
   "cell_type": "markdown",
   "id": "0e3d1a4d",
   "metadata": {},
   "source": [
    "### Cónicas en coordenadas cilíndricas"
   ]
  },
  {
   "cell_type": "markdown",
   "id": "d331c315",
   "metadata": {},
   "source": [
    "El gráfico de la elipse calculada a partir de su ecuación en coordenadas cilíndicas es:"
   ]
  },
  {
   "cell_type": "code",
   "execution_count": 46,
   "id": "5aa26e9e",
   "metadata": {},
   "outputs": [
    {
     "data": {
      "image/png": "[encoded data removed]",
      "text/plain": [
       "<Figure size 640x480 with 1 Axes>"
      ]
     },
     "metadata": {},
     "output_type": "display_data"
    }
   ],
   "source": [
    "#Parámetros\n",
    "p=10.0\n",
    "e=0.8\n",
    "\n",
    "#Valores del ángulo\n",
    "from numpy import linspace,pi\n",
    "fs=linspace(0,2*pi,100)\n",
    "\n",
    "#Distancias \n",
    "from numpy import cos\n",
    "rs=p/(1+e*cos(fs))\n",
    "\n",
    "#Coordenadas\n",
    "from numpy import sin\n",
    "xs=rs*cos(fs)\n",
    "ys=rs*sin(fs)\n",
    "\n",
    "#Gráfica\n",
    "import matplotlib.pyplot as plt\n",
    "fig=plt.figure()\n",
    "ax=fig.gca()\n",
    "\n",
    "#Puntos cónica\n",
    "ax.plot(xs,ys,'b-')\n",
    "#Foco\n",
    "ax.plot([0],[0],'cx',markersize=10)\n",
    "\n",
    "#Decoración\n",
    "ax.set_xlabel(f\"$x_f$\")\n",
    "ax.set_ylabel(f\"$y_f$\")\n",
    "from pymcel.plot import fija_ejes_proporcionales\n",
    "valores=(xs,ys),\n",
    "fija_ejes_proporcionales(ax,valores);\n",
    "ax.grid();"
   ]
  },
  {
   "cell_type": "markdown",
   "id": "be255fd1",
   "metadata": {},
   "source": [
    "Un algoritmo general, que sirve para elipses, parábolas e hipérbolas sería:"
   ]
  },
  {
   "cell_type": "code",
   "execution_count": 47,
   "id": "53afa9df",
   "metadata": {},
   "outputs": [],
   "source": [
    "def puntos_conica(p,e,df=0.1):\n",
    "\n",
    "    #Compute fmin,fmax\n",
    "    from numpy import pi\n",
    "    if e<1:\n",
    "        fmin=-pi\n",
    "        fmax=pi\n",
    "    elif e>1:\n",
    "        from numpy import arccos\n",
    "        psi=arccos(1/e)\n",
    "        fmin=-pi+psi+df\n",
    "        fmax=pi-psi-df\n",
    "    else:\n",
    "        fmin=-pi+df\n",
    "        fmax=pi-df\n",
    "            \n",
    "    #Valores del ángulo\n",
    "    from numpy import linspace,pi\n",
    "    fs=linspace(fmin,fmax,500)\n",
    "\n",
    "    #Distancias \n",
    "    from numpy import cos\n",
    "    rs=p/(1+e*cos(fs))\n",
    "\n",
    "    #Coordenadas\n",
    "    from numpy import sin\n",
    "    xs=rs*cos(fs)\n",
    "    ys=rs*sin(fs)\n",
    "    from numpy import zeros_like\n",
    "    zs=zeros_like(xs)\n",
    "    \n",
    "    return xs,ys,zs"
   ]
  },
  {
   "cell_type": "markdown",
   "id": "3a094862",
   "metadata": {},
   "source": [
    "En la siguiente rutina/interactivo podemos graficar la cónica general en coordenadas cilíndricas:"
   ]
  },
  {
   "cell_type": "code",
   "execution_count": 49,
   "id": "83739df5",
   "metadata": {},
   "outputs": [
    {
     "data": {
      "application/vnd.jupyter.widget-view+json": {
       "model_id": "42c2bffebf7940458ac9d1109adcad6a",
       "version_major": 2,
       "version_minor": 0
      },
      "text/plain": [
       "interactive(children=(IntSlider(value=1, description='p', max=10, min=1), FloatSlider(value=1.5, description='…"
      ]
     },
     "metadata": {},
     "output_type": "display_data"
    }
   ],
   "source": [
    "from ipywidgets import interact\n",
    "\n",
    "@interact(p=(1,10),e=(0,2,0.1))\n",
    "def conica_cilindricas(p=1,e=1.5):\n",
    "    \n",
    "    #Genera puntos\n",
    "    xs,ys,zs=puntos_conica(p,e)\n",
    "\n",
    "    #Gráfica\n",
    "    import matplotlib.pyplot as plt\n",
    "    fig=plt.figure()\n",
    "    ax=fig.gca()\n",
    "\n",
    "    ax.plot(xs,ys,'b-')\n",
    "    ax.plot([0],[0],'cx',markersize=10)\n",
    "\n",
    "    #Decoración\n",
    "    ax.set_xlabel(f\"$x_f$\")\n",
    "    ax.set_ylabel(f\"$y_f$\")\n",
    "    from pymcel.plot import fija_ejes_proporcionales\n",
    "    valores=(xs,ys),\n",
    "    fija_ejes_proporcionales(ax,valores);\n",
    "    ax.grid()"
   ]
  },
  {
   "cell_type": "markdown",
   "id": "dc27f5f0",
   "metadata": {},
   "source": [
    "### Anomalías"
   ]
  },
  {
   "cell_type": "markdown",
   "id": "acdc1693",
   "metadata": {},
   "source": [
    "Relación entre la anomalía verdadera y la anomalía excéntrica para la elipse:"
   ]
  },
  {
   "cell_type": "code",
   "execution_count": 50,
   "id": "00ea332f",
   "metadata": {},
   "outputs": [
    {
     "data": {
      "image/png": "[encoded data removed]",
      "text/plain": [
       "<Figure size 640x480 with 1 Axes>"
      ]
     },
     "metadata": {},
     "output_type": "display_data"
    }
   ],
   "source": [
    "e=0.6\n",
    "\n",
    "import matplotlib.pyplot as plt\n",
    "fig=plt.figure()\n",
    "ax=fig.gca()\n",
    "\n",
    "from numpy import linspace,pi\n",
    "Es=linspace(-pi,pi,500)\n",
    "\n",
    "from numpy import arctan,tan,sqrt\n",
    "fe=sqrt((1+e)/(1-e))\n",
    "fs=2*arctan(fe*tan(Es/2))\n",
    "\n",
    "ax.plot(Es*180/pi,fs*180/pi,'r-');\n",
    "\n",
    "#Aproximación lineal\n",
    "Els=linspace(-pi,pi,100)\n",
    "ax.plot(Els*180/pi,fe*Els*180/pi,'k--');\n",
    "\n",
    "#Decoración\n",
    "ax.grid();\n",
    "ax.set_xlabel(\"$E$ (grados)\");\n",
    "ax.set_ylabel(\"$f$ (grados)\");\n",
    "ax.set_title(f\"Elipse con $e={e}$\");\n",
    "ax.set_xlim((-180,180));\n",
    "ax.set_ylim((-180,180));"
   ]
  },
  {
   "cell_type": "markdown",
   "id": "8b7d4700",
   "metadata": {},
   "source": [
    "Relación entre la anomalía verdadera y la anomalía excéntrica para la hipérbola:"
   ]
  },
  {
   "cell_type": "code",
   "execution_count": 52,
   "id": "2a6958e4",
   "metadata": {},
   "outputs": [
    {
     "data": {
      "image/png": "[encoded data removed]",
      "text/plain": [
       "<Figure size 640x480 with 1 Axes>"
      ]
     },
     "metadata": {},
     "output_type": "display_data"
    }
   ],
   "source": [
    "e=2.5\n",
    "\n",
    "#Valor extremo de la anomalía verdadera\n",
    "from numpy import arccos\n",
    "psi=arccos(1/e)\n",
    "fmax=pi-psi\n",
    "\n",
    "import matplotlib.pyplot as plt\n",
    "fig=plt.figure()\n",
    "ax=fig.gca()\n",
    "\n",
    "#Valores de la anomalía verdadera\n",
    "from numpy import linspace,pi\n",
    "fs=linspace(-fmax,fmax,100)\n",
    "\n",
    "#Relación\n",
    "from numpy import arctanh,tanh,sqrt\n",
    "fe=sqrt((e-1)/(e+1))\n",
    "Fs=2*arctanh(fe*tanh(fs/2))\n",
    "\n",
    "#Gráfico de la relación\n",
    "ax.plot(fs*180/pi,Fs*180/pi,'r-');\n",
    "\n",
    "#Aproximación lineal\n",
    "fls=linspace(-fmax,fmax,100)\n",
    "ax.plot(fls*180/pi,fe*fls*180/pi,'k--');\n",
    "\n",
    "#Decoración\n",
    "ax.grid();\n",
    "ax.set_xlabel(\"$f$ (grados)\");\n",
    "ax.set_ylabel(\"$F$ (grados)\");\n",
    "ax.set_title(f\"Hipérbola con $e={e}$\");\n",
    "ax.set_xlim((-fmax*180/pi,fmax*180/pi));\n",
    "ax.set_ylim((-fmax*180/pi,fmax*180/pi));"
   ]
  },
  {
   "cell_type": "markdown",
   "id": "7c0b9803",
   "metadata": {},
   "source": [
    "<hr/>"
   ]
  },
  {
   "cell_type": "markdown",
   "id": "79c3838e",
   "metadata": {},
   "source": [
    "Para explorar más cuadernos del libro vaya al [repositorio de en GitHub](https://github.com/seap-udea/pymcel/tree/main/ejemplos/cuadernos-libro)"
   ]
  }
 ],
 "metadata": {
  "kernelspec": {
   "display_name": "Python 3 (ipykernel)",
   "language": "python",
   "name": "python3"
  },
  "language_info": {
   "codemirror_mode": {
    "name": "ipython",
    "version": 3
   },
   "file_extension": ".py",
   "mimetype": "text/x-python",
   "name": "python",
   "nbconvert_exporter": "python",
   "pygments_lexer": "ipython3",
   "version": "3.10.12"
  }
 },
 "nbformat": 4,
 "nbformat_minor": 5
}
