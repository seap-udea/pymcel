{
 "cells": [
  {
   "cell_type": "markdown",
   "id": "e8531c81",
   "metadata": {},
   "source": [
    "# Mecánica Celeste: teoría, algoritmos y problemas\n",
    "# Por Jorge I. Zuluaga"
   ]
  },
  {
   "cell_type": "markdown",
   "id": "19a85743",
   "metadata": {},
   "source": [
    "En estos cuadernos hemos compilado la mayoría de los códigos que vienen con el libro [**Mecánica Celeste: teoría, algoritmos y problemas**](https://www.buscalibre.com.co/libro-mecanica-celeste-teoria-algoritmos-y-problemas/9789585011953/p/62242977?afiliado=74c874bfb5a8145d7c1b). En cada cuaderno encontrará códigos de secciones o capítulos enteros. Para explicaciones detalladas de lo que hacen los códigos refiérase a la sección o capítulo respectivo. Para mayor comodidad puede leer o ejecutar este cuaderno usando `Google Colab`.\n",
    "\n",
    "<a target=\"_blank\" href=\"https://colab.research.google.com/github/seap-udea/pymcel/blob/main/ejemplos/cuadernos-libro/mcel_zuluaga-04-calculo_variacional.ipynb\">\n",
    "  <img src=\"https://colab.research.google.com/assets/colab-badge.svg\" alt=\"Open In Colab\"/>\n",
    "</a>"
   ]
  },
  {
   "cell_type": "markdown",
   "id": "074a98d3",
   "metadata": {},
   "source": [
    "## Algorítmos de Cálculo Variacional"
   ]
  },
  {
   "cell_type": "markdown",
   "id": "03672f8a",
   "metadata": {},
   "source": [
    "### Instalación e importación"
   ]
  },
  {
   "cell_type": "markdown",
   "id": "5c222703",
   "metadata": {},
   "source": [
    "Si está usando este cuaderno en `Colab` debería instalar `pymcel` antes de comenzar: "
   ]
  },
  {
   "cell_type": "code",
   "execution_count": 16,
   "id": "7d05f6ac",
   "metadata": {},
   "outputs": [],
   "source": [
    "!pip install -Uq pymcel"
   ]
  },
  {
   "cell_type": "code",
   "execution_count": 1,
   "id": "eb07b46b",
   "metadata": {},
   "outputs": [],
   "source": [
    "# Este código se usa solamente para desarrollar estos cuadernos pero es inocuo en otros contextos\n",
    "%load_ext autoreload \n",
    "%autoreload 2"
   ]
  },
  {
   "cell_type": "markdown",
   "id": "4ecc4aa1",
   "metadata": {},
   "source": [
    "### Cálculo variacional"
   ]
  },
  {
   "cell_type": "markdown",
   "id": "22578c3d",
   "metadata": {},
   "source": [
    "Definición numérico de la funcional correspondiente a la longitud de arco:"
   ]
  },
  {
   "cell_type": "code",
   "execution_count": 2,
   "id": "3d112626",
   "metadata": {},
   "outputs": [],
   "source": [
    "def funcional_integral(f0,eta,epsilon,a,b,**opciones_de_f0):\n",
    "    \n",
    "    #Definimos las función con su variación\n",
    "    f=lambda t:f0(t,**opciones_de_f0)+epsilon*eta(t)\n",
    "    \n",
    "    #La derivada de f la calculamos con derivative\n",
    "    from scipy.misc import derivative\n",
    "    dfdt=lambda t:derivative(f,t,0.01)\n",
    "    \n",
    "    #Este es el integrando del funcional\n",
    "    from numpy import sqrt\n",
    "    L=lambda t:sqrt(1+abs(dfdt(t))**2)\n",
    "    \n",
    "    #El funcional es la integral definida del integrando\n",
    "    from scipy.integrate import quad\n",
    "    integral=quad(L,a,b)\n",
    "    longitud=integral[0]\n",
    "    \n",
    "    return longitud"
   ]
  },
  {
   "cell_type": "markdown",
   "id": "c6b0f5b4",
   "metadata": {},
   "source": [
    "Definición de la función plantilla:"
   ]
  },
  {
   "cell_type": "code",
   "execution_count": 3,
   "id": "1cd8bf2e",
   "metadata": {},
   "outputs": [],
   "source": [
    "#Intevalo entre los puntos\n",
    "from numpy import pi\n",
    "a=0\n",
    "b=pi\n",
    "\n",
    "#Funcion de referencia\n",
    "def curva(t,n=1):\n",
    "    return (t/pi)**n\n",
    "\n",
    "#Función plantilla\n",
    "from numpy import sin\n",
    "eta=sin"
   ]
  },
  {
   "cell_type": "markdown",
   "id": "1e1df062",
   "metadata": {},
   "source": [
    "Cálculo del funcional:"
   ]
  },
  {
   "cell_type": "code",
   "execution_count": 4,
   "id": "546fbcce",
   "metadata": {},
   "outputs": [
    {
     "name": "stdout",
     "output_type": "stream",
     "text": [
      "I[f] = 3.3371628094173413\n"
     ]
    },
    {
     "name": "stderr",
     "output_type": "stream",
     "text": [
      "/tmp/ipykernel_57797/373015436.py:8: DeprecationWarning: scipy.misc.derivative is deprecated in SciPy v1.10.0; and will be completely removed in SciPy v1.12.0. You may consider using findiff: https://github.com/maroba/findiff or numdifftools: https://github.com/pbrod/numdifftools\n",
      "  dfdt=lambda t:derivative(f,t,0.01)\n"
     ]
    }
   ],
   "source": [
    "n=2\n",
    "If=funcional_integral(curva,eta,0.5,a,b,n=n)\n",
    "print(f\"I[f] = {If}\")"
   ]
  },
  {
   "cell_type": "markdown",
   "id": "f9867d11",
   "metadata": {},
   "source": [
    "Definiciòn de la función lambda para el cálculo del funcional:"
   ]
  },
  {
   "cell_type": "code",
   "execution_count": 5,
   "id": "8a6deab3",
   "metadata": {},
   "outputs": [],
   "source": [
    "longitud_arco=lambda epsilon:funcional_integral(curva,eta,epsilon,a,b,n=n)"
   ]
  },
  {
   "cell_type": "markdown",
   "id": "139f42b9",
   "metadata": {},
   "source": [
    "Minimización del funcional:"
   ]
  },
  {
   "cell_type": "code",
   "execution_count": 6,
   "id": "6ca888ff",
   "metadata": {},
   "outputs": [
    {
     "name": "stdout",
     "output_type": "stream",
     "text": [
      "Resultado de la minimización:\n",
      "  message: Optimization terminated successfully.\n",
      "  success: True\n",
      "   status: 0\n",
      "      fun: 3.297572201351241\n",
      "        x: [ 2.580e-01]\n",
      "      nit: 3\n",
      "      jac: [ 1.132e-06]\n",
      " hess_inv: [[ 7.369e-01]]\n",
      "     nfev: 8\n",
      "     njev: 4\n"
     ]
    },
    {
     "name": "stderr",
     "output_type": "stream",
     "text": [
      "/tmp/ipykernel_57797/373015436.py:8: DeprecationWarning: scipy.misc.derivative is deprecated in SciPy v1.10.0; and will be completely removed in SciPy v1.12.0. You may consider using findiff: https://github.com/maroba/findiff or numdifftools: https://github.com/pbrod/numdifftools\n",
      "  dfdt=lambda t:derivative(f,t,0.01)\n"
     ]
    }
   ],
   "source": [
    "from scipy.optimize import minimize\n",
    "solucion=minimize(longitud_arco,0.0)\n",
    "\n",
    "print(f\"Resultado de la minimización:\\n{solucion}\")"
   ]
  },
  {
   "cell_type": "markdown",
   "id": "7adafa35",
   "metadata": {},
   "source": [
    "Gráfico de la solución y de lo esperado analíticamente:"
   ]
  },
  {
   "cell_type": "code",
   "execution_count": 7,
   "id": "5b1239fe",
   "metadata": {},
   "outputs": [
    {
     "data": {
      "image/png": "[encoded data removed]",
      "text/plain": [
       "<Figure size 640x480 with 1 Axes>"
      ]
     },
     "metadata": {},
     "output_type": "display_data"
    }
   ],
   "source": [
    "import matplotlib.pyplot as plt\n",
    "plt.figure()\n",
    "\n",
    "from numpy import linspace,pi\n",
    "ts=linspace(0,pi)\n",
    "\n",
    "#Valor de epsilon proveniende de la minimización\n",
    "epsilon=solucion.x[0]\n",
    "\n",
    "plt.plot(ts,curva(ts,n=n),'r.',\n",
    "         label=f\"Curva de referencia\")\n",
    "plt.plot(ts,curva(ts,n=n)+epsilon*eta(ts),'b-',\n",
    "         label=f\"Curva variada con $\\epsilon$={epsilon:g}\")\n",
    "plt.plot(ts,curva(ts,n=1),'k--',\n",
    "         label=f\"Línea recta\")\n",
    "\n",
    "plt.legend();\n",
    "\n",
    "#--hide--\n",
    "plt.xlabel(\"t\");"
   ]
  },
  {
   "cell_type": "markdown",
   "id": "7c0b9803",
   "metadata": {},
   "source": [
    "<hr/>"
   ]
  },
  {
   "cell_type": "markdown",
   "id": "79c3838e",
   "metadata": {},
   "source": [
    "Para explorar más cuadernos del libro vaya al [repositorio de en GitHub](https://github.com/seap-udea/pymcel/tree/main/ejemplos/cuadernos-libro)"
   ]
  }
 ],
 "metadata": {
  "kernelspec": {
   "display_name": "Python 3 (ipykernel)",
   "language": "python",
   "name": "python3"
  },
  "language_info": {
   "codemirror_mode": {
    "name": "ipython",
    "version": 3
   },
   "file_extension": ".py",
   "mimetype": "text/x-python",
   "name": "python",
   "nbconvert_exporter": "python",
   "pygments_lexer": "ipython3",
   "version": "3.10.12"
  }
 },
 "nbformat": 4,
 "nbformat_minor": 5
}
